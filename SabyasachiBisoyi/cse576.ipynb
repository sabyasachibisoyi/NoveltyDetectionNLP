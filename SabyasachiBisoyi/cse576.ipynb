{
 "cells": [
  {
   "cell_type": "code",
   "execution_count": 1,
   "metadata": {},
   "outputs": [],
   "source": [
    "import random"
   ]
  },
  {
   "cell_type": "code",
   "execution_count": 2,
   "metadata": {},
   "outputs": [],
   "source": [
    "list_of_json_object = []"
   ]
  },
  {
   "cell_type": "code",
   "execution_count": 3,
   "metadata": {},
   "outputs": [],
   "source": [
    "def create_params_mapping(temp_variables):\n",
    "    param_dict = {}\n",
    "    for i in range(len(temp_variables)):\n",
    "        key = \"$\"+str(i+1)\n",
    "        param_dict[key] = temp_variables[i]\n",
    "    return param_dict"
   ]
  },
  {
   "cell_type": "code",
   "execution_count": 4,
   "metadata": {},
   "outputs": [],
   "source": [
    "def raplace_parameters(template,temp_variables):\n",
    "    param_dict = create_params_mapping(temp_variables)\n",
    "    for key in param_dict:\n",
    "        template = template.replace(key,str(param_dict[key]))\n",
    "    return template"
   ]
  },
  {
   "cell_type": "code",
   "execution_count": 5,
   "metadata": {},
   "outputs": [],
   "source": [
    "def commonsense_carpet(list_of_json_object):\n",
    "    template = \"The size of my room is $1 * $2. Which carpet shoul I buy from $3?\"\n",
    "    ecommerce = [\"amazon\",\"flipkart\",\"walmart\",\"target\"]\n",
    "    duplicity = 5\n",
    "    while duplicity > 0:\n",
    "        template_obj = {}\n",
    "        length = random.randint(30,60)\n",
    "        breadth = random.randint(30,60)\n",
    "        ecommerce_chooser = ecommerce[random.randint(0,3)]\n",
    "        correct_answer = random.randint(0,4)\n",
    "        temp_variables = [length,breadth,ecommerce_chooser]\n",
    "        template_question = raplace_parameters(template,temp_variables)\n",
    "        template_obj[\"question\"] = template_question\n",
    "        question_options = []\n",
    "        for i in range(5):\n",
    "            if i == correct_answer:\n",
    "                ans_len = random.randint(int(length/2),length-1)\n",
    "                ans_bre = random.randint(int(breadth/2),breadth-1)\n",
    "                ans = str(ans_len)+\"*\"+str(ans_bre)\n",
    "                template_obj[\"answer\"] = ans\n",
    "                question_options.append(ans)\n",
    "            else:\n",
    "                opt_len = random.randint(length+1,(length+1)*2)\n",
    "                opt_bre = random.randint(breadth+1,(breadth+1)*2)\n",
    "                opt = str(opt_len)+\"*\"+str(opt_bre)\n",
    "                question_options.append(opt)\n",
    "        duplicity-=1\n",
    "        template_obj[\"options\"]=question_options\n",
    "        list_of_json_object.append(template_obj)\n",
    "    return list_of_json_object"
   ]
  },
  {
   "cell_type": "code",
   "execution_count": 6,
   "metadata": {},
   "outputs": [
    {
     "name": "stdout",
     "output_type": "stream",
     "text": [
      "[{'question': 'The size of my room is 35 * 36. Which carpet shoul I buy from flipkart?', 'answer': '32*22', 'options': ['50*39', '32*22', '57*73', '39*47', '44*64']}, {'question': 'The size of my room is 36 * 59. Which carpet shoul I buy from flipkart?', 'answer': '26*49', 'options': ['60*110', '26*49', '73*102', '53*118', '69*116']}, {'question': 'The size of my room is 43 * 51. Which carpet shoul I buy from amazon?', 'answer': '31*38', 'options': ['87*93', '58*79', '57*86', '31*38', '63*67']}, {'question': 'The size of my room is 38 * 30. Which carpet shoul I buy from target?', 'answer': '35*20', 'options': ['50*41', '52*33', '42*60', '53*47', '35*20']}, {'question': 'The size of my room is 48 * 53. Which carpet shoul I buy from walmart?', 'answer': '38*49', 'options': ['59*97', '38*49', '92*72', '72*71', '88*56']}]\n"
     ]
    }
   ],
   "source": [
    "list_of_json_object.clear()\n",
    "commonsense_carpet(list_of_json_object)\n",
    "print(list_of_json_object)"
   ]
  },
  {
   "cell_type": "code",
   "execution_count": 7,
   "metadata": {},
   "outputs": [],
   "source": [
    "def time_distance(list_of_json_object):\n",
    "    from_names = [\"Tom\",\"Anthony\",\"Stephnie\",\"Rahul\",\"Prashanth\",\"Mokshitha\"]\n",
    "    to_names = names = [\"Mill\",\"Jessi\",\"Sandeep\",\"Chandra\",\"Mariya\",\"Ron\"]\n",
    "    verbs = [\"walks\",\"drives\",\"cycles\",\"runs\"]\n",
    "    template = \"$1 $5 at a speed of $2 km/hr. How much time will it take him/her to travel $3 's place which is $4 km away?\"\n",
    "    duplicity = 5\n",
    "    while duplicity > 0:\n",
    "        template_obj = {}\n",
    "        name_from = from_names[random.randint(0,5)]\n",
    "        name_to = to_names[random.randint(0,5)]\n",
    "        speed = random.randint(6,10)\n",
    "        distance = random.randint(10,20)\n",
    "        verb = verbs[random.randint(0,3)]\n",
    "        correct_answer = random.randint(0,4)\n",
    "        temp_variables = [name_from,speed,name_to,distance,verb]\n",
    "        template_question = raplace_parameters(template,temp_variables)\n",
    "        template_obj[\"question\"] = template_question\n",
    "        question_options = []\n",
    "        for i in range(5):\n",
    "            if i == correct_answer:\n",
    "                ans = (distance/speed)\n",
    "                ans = str(\"%.2f\" % ans)\n",
    "                template_obj[\"answer\"] = ans\n",
    "                question_options.append(ans)\n",
    "            else:\n",
    "                opt = ((distance/speed)*random.randint(2,5))\n",
    "                opt = str(\"%.2f\" % opt)\n",
    "                question_options.append(opt)\n",
    "        duplicity-=1\n",
    "        template_obj[\"options\"]=question_options\n",
    "        list_of_json_object.append(template_obj)\n",
    "    return list_of_json_object"
   ]
  },
  {
   "cell_type": "code",
   "execution_count": 8,
   "metadata": {},
   "outputs": [
    {
     "name": "stdout",
     "output_type": "stream",
     "text": [
      "[{'question': \"Stephnie runs at a speed of 9 km/hr. How much time will it take him/her to travel Sandeep 's place which is 17 km away?\", 'answer': '1.89', 'options': ['3.78', '5.67', '3.78', '1.89', '3.78']}, {'question': \"Stephnie runs at a speed of 10 km/hr. How much time will it take him/her to travel Chandra 's place which is 14 km away?\", 'answer': '1.40', 'options': ['4.20', '1.40', '5.60', '2.80', '4.20']}, {'question': \"Stephnie drives at a speed of 8 km/hr. How much time will it take him/her to travel Mill 's place which is 18 km away?\", 'answer': '2.25', 'options': ['4.50', '6.75', '9.00', '2.25', '6.75']}, {'question': \"Anthony walks at a speed of 10 km/hr. How much time will it take him/her to travel Mariya 's place which is 15 km away?\", 'answer': '1.50', 'options': ['7.50', '6.00', '4.50', '3.00', '1.50']}, {'question': \"Stephnie drives at a speed of 6 km/hr. How much time will it take him/her to travel Jessi 's place which is 15 km away?\", 'answer': '2.50', 'options': ['12.50', '7.50', '10.00', '2.50', '12.50']}]\n"
     ]
    }
   ],
   "source": [
    "list_of_json_object.clear()\n",
    "time_distance(list_of_json_object)\n",
    "print(list_of_json_object)"
   ]
  },
  {
   "cell_type": "code",
   "execution_count": 9,
   "metadata": {},
   "outputs": [],
   "source": [
    "def triangle(list_of_json_object):\n",
    "    template = \"The angles of an triangle are $1, $2, $3. What type of triangle is this one?\"\n",
    "    duplicity = 5\n",
    "    while duplicity > 0:\n",
    "        template_obj = {}\n",
    "        angle_1 = random.randint(30,100)\n",
    "        angle_2 = random.randint(30,60)\n",
    "        angle_3 = 180 - angle_1 - angle_2\n",
    "        angles = [angle_1,angle_2,angle_3]\n",
    "        template_question = raplace_parameters(template,angles)\n",
    "        template_obj[\"question\"] = template_question\n",
    "        question_options = [\"acute angle triangle,right angle triangle,obtuse angle triangle\"]\n",
    "        for i in range(5):\n",
    "            if angle_1>90 or angle_2>90 or angle_3 > 90:\n",
    "                template_obj[\"answer\"] = \"obtuse angle triangle\"\n",
    "            elif angle_1==90 or angle_2==90 or angle_3 == 90:\n",
    "                template_obj[\"answer\"] = \"right angle triangle\"\n",
    "            else:\n",
    "                template_obj[\"answer\"] = \"acute angle triangle\"       \n",
    "        duplicity-=1\n",
    "        template_obj[\"options\"]=question_options\n",
    "        list_of_json_object.append(template_obj)\n",
    "    return list_of_json_object"
   ]
  },
  {
   "cell_type": "code",
   "execution_count": 10,
   "metadata": {},
   "outputs": [
    {
     "name": "stdout",
     "output_type": "stream",
     "text": [
      "[{'question': 'The angles of an triangle are 58, 36, 86. What type of triangle is this one?', 'answer': 'acute angle triangle', 'options': ['acute angle triangle,right angle triangle,obtuse angle triangle']}, {'question': 'The angles of an triangle are 55, 36, 89. What type of triangle is this one?', 'answer': 'acute angle triangle', 'options': ['acute angle triangle,right angle triangle,obtuse angle triangle']}, {'question': 'The angles of an triangle are 51, 59, 70. What type of triangle is this one?', 'answer': 'acute angle triangle', 'options': ['acute angle triangle,right angle triangle,obtuse angle triangle']}, {'question': 'The angles of an triangle are 36, 46, 98. What type of triangle is this one?', 'answer': 'obtuse angle triangle', 'options': ['acute angle triangle,right angle triangle,obtuse angle triangle']}, {'question': 'The angles of an triangle are 74, 32, 74. What type of triangle is this one?', 'answer': 'acute angle triangle', 'options': ['acute angle triangle,right angle triangle,obtuse angle triangle']}]\n"
     ]
    }
   ],
   "source": [
    "list_of_json_object.clear()\n",
    "triangle(list_of_json_object)\n",
    "print(list_of_json_object)"
   ]
  },
  {
   "cell_type": "code",
   "execution_count": 11,
   "metadata": {},
   "outputs": [],
   "source": [
    "def polygon(list_of_json_object):\n",
    "    template = \"There are $1 sides of a polygon. What type of polygon is this one?\"\n",
    "    duplicity = 5\n",
    "    while duplicity > 0:\n",
    "        template_obj = {}\n",
    "        side = random.randint(3,8)\n",
    "        sides = [side]\n",
    "        template_question = raplace_parameters(template,sides)\n",
    "        template_obj[\"question\"] = template_question\n",
    "        question_options = [\"Triangle,Rectangle,Pentagon,Hexagon,Heptagon,Octagon\"]\n",
    "        for i in range(5):\n",
    "            if side ==3:\n",
    "                template_obj[\"answer\"] = \"Traingle\"\n",
    "            elif side == 4:\n",
    "                template_obj[\"answer\"] = \"Rectangle\"\n",
    "            elif side == 5:\n",
    "                template_obj[\"answer\"] = \"Pentagon\"\n",
    "            elif side == 6:\n",
    "                template_obj[\"answer\"] = \"Hexagon\"\n",
    "            elif side == 7:\n",
    "                template_obj[\"answer\"] = \"Heptagon\"\n",
    "            else:\n",
    "                template_obj[\"answer\"] = \"Octagon\"       \n",
    "        duplicity-=1\n",
    "        template_obj[\"options\"]=question_options\n",
    "        list_of_json_object.append(template_obj)\n",
    "    return list_of_json_object"
   ]
  },
  {
   "cell_type": "code",
   "execution_count": 12,
   "metadata": {},
   "outputs": [
    {
     "name": "stdout",
     "output_type": "stream",
     "text": [
      "[{'question': 'There are 6 sides of a polygon. What type of polygon is this one?', 'answer': 'Hexagon', 'options': ['Triangle,Rectangle,Pentagon,Hexagon,Heptagon,Octagon']}, {'question': 'There are 3 sides of a polygon. What type of polygon is this one?', 'answer': 'Traingle', 'options': ['Triangle,Rectangle,Pentagon,Hexagon,Heptagon,Octagon']}, {'question': 'There are 8 sides of a polygon. What type of polygon is this one?', 'answer': 'Octagon', 'options': ['Triangle,Rectangle,Pentagon,Hexagon,Heptagon,Octagon']}, {'question': 'There are 6 sides of a polygon. What type of polygon is this one?', 'answer': 'Hexagon', 'options': ['Triangle,Rectangle,Pentagon,Hexagon,Heptagon,Octagon']}, {'question': 'There are 5 sides of a polygon. What type of polygon is this one?', 'answer': 'Pentagon', 'options': ['Triangle,Rectangle,Pentagon,Hexagon,Heptagon,Octagon']}]\n"
     ]
    }
   ],
   "source": [
    "list_of_json_object.clear()\n",
    "polygon(list_of_json_object)\n",
    "print(list_of_json_object)"
   ]
  },
  {
   "cell_type": "code",
   "execution_count": 13,
   "metadata": {},
   "outputs": [],
   "source": [
    "def general_physics(list_of_json_object):\n",
    "    objects = {\"water\":\"1496\",\"wood\":\"3960\",\"glass\":\"5640\",\"aluminium\":\"6420\",\"mercury\":\"1540\"}\n",
    "    key_list = list(objects.keys()) \n",
    "    val_list = list(objects.values())\n",
    "    ref_air = {\"air\":\"343\"}\n",
    "    template = \"Sound travels faster in denser medium than air. What is the speed of sound in $1 ?\"\n",
    "    duplicity = 5\n",
    "    while duplicity > 0:\n",
    "        template_obj = {}\n",
    "        medium = random.randint(0,4)\n",
    "        template_question = raplace_parameters(template,[key_list[medium]])\n",
    "        template_obj[\"question\"] = template_question\n",
    "        template_obj[\"answer\"] = str(val_list[medium])\n",
    "        question_options = []\n",
    "        question_options.append(str(val_list[medium]))\n",
    "        for i in range(4):\n",
    "            question_options.append(str(random.randint(100,int(ref_air[\"air\"])-1)))\n",
    "        template_obj[\"options\"] = question_options\n",
    "        list_of_json_object.append(template_obj)\n",
    "        duplicity-=1"
   ]
  },
  {
   "cell_type": "code",
   "execution_count": 14,
   "metadata": {},
   "outputs": [
    {
     "name": "stdout",
     "output_type": "stream",
     "text": [
      "[{'question': 'Sound travels faster in denser medium than air. What is the speed of sound in wood ?', 'answer': '3960', 'options': ['3960', '224', '169', '320', '150']}, {'question': 'Sound travels faster in denser medium than air. What is the speed of sound in glass ?', 'answer': '5640', 'options': ['5640', '186', '339', '127', '155']}, {'question': 'Sound travels faster in denser medium than air. What is the speed of sound in mercury ?', 'answer': '1540', 'options': ['1540', '210', '262', '292', '236']}, {'question': 'Sound travels faster in denser medium than air. What is the speed of sound in mercury ?', 'answer': '1540', 'options': ['1540', '330', '175', '302', '336']}, {'question': 'Sound travels faster in denser medium than air. What is the speed of sound in water ?', 'answer': '1496', 'options': ['1496', '317', '255', '134', '187']}]\n"
     ]
    }
   ],
   "source": [
    "list_of_json_object.clear()\n",
    "general_physics(list_of_json_object)\n",
    "print(list_of_json_object)"
   ]
  },
  {
   "cell_type": "code",
   "execution_count": null,
   "metadata": {},
   "outputs": [],
   "source": []
  }
 ],
 "metadata": {
  "kernelspec": {
   "display_name": "Python 3",
   "language": "python",
   "name": "python3"
  },
  "language_info": {
   "codemirror_mode": {
    "name": "ipython",
    "version": 3
   },
   "file_extension": ".py",
   "mimetype": "text/x-python",
   "name": "python",
   "nbconvert_exporter": "python",
   "pygments_lexer": "ipython3",
   "version": "3.7.6"
  }
 },
 "nbformat": 4,
 "nbformat_minor": 4
}
