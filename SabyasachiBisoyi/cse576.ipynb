{
 "cells": [
  {
   "cell_type": "code",
   "execution_count": 1,
   "metadata": {},
   "outputs": [],
   "source": [
    "import random"
   ]
  },
  {
   "cell_type": "code",
   "execution_count": 2,
   "metadata": {},
   "outputs": [],
   "source": [
    "list_of_json_object = []"
   ]
  },
  {
   "cell_type": "code",
   "execution_count": 3,
   "metadata": {},
   "outputs": [],
   "source": [
    "def create_params_mapping(temp_variables):\n",
    "    param_dict = {}\n",
    "    for i in range(len(temp_variables)):\n",
    "        key = \"$\"+str(i+1)\n",
    "        param_dict[key] = temp_variables[i]\n",
    "    return param_dict"
   ]
  },
  {
   "cell_type": "code",
   "execution_count": 4,
   "metadata": {},
   "outputs": [],
   "source": [
    "def raplace_parameters(template,temp_variables):\n",
    "    param_dict = create_params_mapping(temp_variables)\n",
    "    for key in param_dict:\n",
    "        template = template.replace(key,str(param_dict[key]))\n",
    "    return template"
   ]
  },
  {
   "cell_type": "code",
   "execution_count": 5,
   "metadata": {},
   "outputs": [],
   "source": [
    "def commonsense_carpet(list_of_json_object):\n",
    "    template = \"The size of my room is $1 * $2. Which carpet shoul I buy from $3?\"\n",
    "    ecommerce = [\"amazon\",\"flipkart\",\"walmart\",\"target\"]\n",
    "    duplicity = 5\n",
    "    while duplicity > 0:\n",
    "        template_obj = {}\n",
    "        length = random.randint(30,60)\n",
    "        breadth = random.randint(30,60)\n",
    "        ecommerce_chooser = ecommerce[random.randint(0,3)]\n",
    "        correct_answer = random.randint(0,4)\n",
    "        temp_variables = [length,breadth,ecommerce_chooser]\n",
    "        template_question = raplace_parameters(template,temp_variables)\n",
    "        template_obj[\"question\"] = template_question\n",
    "        question_options = []\n",
    "        for i in range(5):\n",
    "            if i == correct_answer:\n",
    "                ans_len = random.randint(int(length/2),length-1)\n",
    "                ans_bre = random.randint(int(breadth/2),breadth-1)\n",
    "                ans = str(ans_len)+\"*\"+str(ans_bre)\n",
    "                template_obj[\"answer\"] = ans\n",
    "                question_options.append(ans)\n",
    "            else:\n",
    "                opt_len = random.randint(length+1,(length+1)*2)\n",
    "                opt_bre = random.randint(breadth+1,(breadth+1)*2)\n",
    "                opt = str(opt_len)+\"*\"+str(opt_bre)\n",
    "                question_options.append(opt)\n",
    "        duplicity-=1\n",
    "        template_obj[\"options\"]=question_options\n",
    "        list_of_json_object.append(template_obj)\n",
    "    return list_of_json_object"
   ]
  },
  {
   "cell_type": "code",
   "execution_count": 6,
   "metadata": {},
   "outputs": [
    {
     "name": "stdout",
     "output_type": "stream",
     "text": [
      "[{'question': 'The size of my room is 35 * 36. Which carpet shoul I buy from flipkart?', 'answer': '32*22', 'options': ['50*39', '32*22', '57*73', '39*47', '44*64']}, {'question': 'The size of my room is 36 * 59. Which carpet shoul I buy from flipkart?', 'answer': '26*49', 'options': ['60*110', '26*49', '73*102', '53*118', '69*116']}, {'question': 'The size of my room is 43 * 51. Which carpet shoul I buy from amazon?', 'answer': '31*38', 'options': ['87*93', '58*79', '57*86', '31*38', '63*67']}, {'question': 'The size of my room is 38 * 30. Which carpet shoul I buy from target?', 'answer': '35*20', 'options': ['50*41', '52*33', '42*60', '53*47', '35*20']}, {'question': 'The size of my room is 48 * 53. Which carpet shoul I buy from walmart?', 'answer': '38*49', 'options': ['59*97', '38*49', '92*72', '72*71', '88*56']}]\n"
     ]
    }
   ],
   "source": [
    "list_of_json_object.clear()\n",
    "commonsense_carpet(list_of_json_object)\n",
    "print(list_of_json_object)"
   ]
  },
  {
   "cell_type": "code",
   "execution_count": 7,
   "metadata": {},
   "outputs": [],
   "source": [
    "def time_distance(list_of_json_object):\n",
    "    from_names = [\"Tom\",\"Anthony\",\"Stephnie\",\"Rahul\",\"Prashanth\",\"Mokshitha\"]\n",
    "    to_names = names = [\"Mill\",\"Jessi\",\"Sandeep\",\"Chandra\",\"Mariya\",\"Ron\"]\n",
    "    verbs = [\"walks\",\"drives\",\"cycles\",\"runs\"]\n",
    "    template = \"$1 $5 at a speed of $2 km/hr. How much time will it take him/her to travel $3 's place which is $4 km away?\"\n",
    "    duplicity = 5\n",
    "    while duplicity > 0:\n",
    "        template_obj = {}\n",
    "        name_from = from_names[random.randint(0,5)]\n",
    "        name_to = to_names[random.randint(0,5)]\n",
    "        speed = random.randint(6,10)\n",
    "        distance = random.randint(10,20)\n",
    "        verb = verbs[random.randint(0,3)]\n",
    "        correct_answer = random.randint(0,4)\n",
    "        temp_variables = [name_from,speed,name_to,distance,verb]\n",
    "        template_question = raplace_parameters(template,temp_variables)\n",
    "        template_obj[\"question\"] = template_question\n",
    "        question_options = []\n",
    "        for i in range(5):\n",
    "            if i == correct_answer:\n",
    "                ans = (distance/speed)\n",
    "                ans = str(\"%.2f\" % ans)\n",
    "                template_obj[\"answer\"] = ans\n",
    "                question_options.append(ans)\n",
    "            else:\n",
    "                opt = ((distance/speed)*random.randint(2,5))\n",
    "                opt = str(\"%.2f\" % opt)\n",
    "                question_options.append(opt)\n",
    "        duplicity-=1\n",
    "        template_obj[\"options\"]=question_options\n",
    "        list_of_json_object.append(template_obj)\n",
    "    return list_of_json_object"
   ]
  },
  {
   "cell_type": "code",
   "execution_count": 8,
   "metadata": {},
   "outputs": [
    {
     "name": "stdout",
     "output_type": "stream",
     "text": [
      "[{'question': \"Stephnie runs at a speed of 9 km/hr. How much time will it take him/her to travel Sandeep 's place which is 17 km away?\", 'answer': '1.89', 'options': ['3.78', '5.67', '3.78', '1.89', '3.78']}, {'question': \"Stephnie runs at a speed of 10 km/hr. How much time will it take him/her to travel Chandra 's place which is 14 km away?\", 'answer': '1.40', 'options': ['4.20', '1.40', '5.60', '2.80', '4.20']}, {'question': \"Stephnie drives at a speed of 8 km/hr. How much time will it take him/her to travel Mill 's place which is 18 km away?\", 'answer': '2.25', 'options': ['4.50', '6.75', '9.00', '2.25', '6.75']}, {'question': \"Anthony walks at a speed of 10 km/hr. How much time will it take him/her to travel Mariya 's place which is 15 km away?\", 'answer': '1.50', 'options': ['7.50', '6.00', '4.50', '3.00', '1.50']}, {'question': \"Stephnie drives at a speed of 6 km/hr. How much time will it take him/her to travel Jessi 's place which is 15 km away?\", 'answer': '2.50', 'options': ['12.50', '7.50', '10.00', '2.50', '12.50']}]\n"
     ]
    }
   ],
   "source": [
    "list_of_json_object.clear()\n",
    "time_distance(list_of_json_object)\n",
    "print(list_of_json_object)"
   ]
  },
  {
   "cell_type": "code",
   "execution_count": 9,
   "metadata": {},
   "outputs": [],
   "source": [
    "def triangle(list_of_json_object):\n",
    "    template = \"The angles of an triangle are $1, $2, $3. What type of triangle is this one?\"\n",
    "    duplicity = 5\n",
    "    while duplicity > 0:\n",
    "        template_obj = {}\n",
    "        angle_1 = random.randint(30,100)\n",
    "        angle_2 = random.randint(30,60)\n",
    "        angle_3 = 180 - angle_1 - angle_2\n",
    "        angles = [angle_1,angle_2,angle_3]\n",
    "        template_question = raplace_parameters(template,angles)\n",
    "        template_obj[\"question\"] = template_question\n",
    "        question_options = [\"acute angle triangle,right angle triangle,obtuse angle triangle\"]\n",
    "        for i in range(5):\n",
    "            if angle_1>90 or angle_2>90 or angle_3 > 90:\n",
    "                template_obj[\"answer\"] = \"obtuse angle triangle\"\n",
    "            elif angle_1==90 or angle_2==90 or angle_3 == 90:\n",
    "                template_obj[\"answer\"] = \"right angle triangle\"\n",
    "            else:\n",
    "                template_obj[\"answer\"] = \"acute angle triangle\"       \n",
    "        duplicity-=1\n",
    "        template_obj[\"options\"]=question_options\n",
    "        list_of_json_object.append(template_obj)\n",
    "    return list_of_json_object"
   ]
  },
  {
   "cell_type": "code",
   "execution_count": 10,
   "metadata": {},
   "outputs": [
    {
     "name": "stdout",
     "output_type": "stream",
     "text": [
      "[{'question': 'The angles of an triangle are 58, 36, 86. What type of triangle is this one?', 'answer': 'acute angle triangle', 'options': ['acute angle triangle,right angle triangle,obtuse angle triangle']}, {'question': 'The angles of an triangle are 55, 36, 89. What type of triangle is this one?', 'answer': 'acute angle triangle', 'options': ['acute angle triangle,right angle triangle,obtuse angle triangle']}, {'question': 'The angles of an triangle are 51, 59, 70. What type of triangle is this one?', 'answer': 'acute angle triangle', 'options': ['acute angle triangle,right angle triangle,obtuse angle triangle']}, {'question': 'The angles of an triangle are 36, 46, 98. What type of triangle is this one?', 'answer': 'obtuse angle triangle', 'options': ['acute angle triangle,right angle triangle,obtuse angle triangle']}, {'question': 'The angles of an triangle are 74, 32, 74. What type of triangle is this one?', 'answer': 'acute angle triangle', 'options': ['acute angle triangle,right angle triangle,obtuse angle triangle']}]\n"
     ]
    }
   ],
   "source": [
    "list_of_json_object.clear()\n",
    "triangle(list_of_json_object)\n",
    "print(list_of_json_object)"
   ]
  },
  {
   "cell_type": "code",
   "execution_count": 11,
   "metadata": {},
   "outputs": [],
   "source": [
    "def polygon(list_of_json_object):\n",
    "    template = \"There are $1 sides of a polygon. What type of polygon is this one?\"\n",
    "    duplicity = 5\n",
    "    while duplicity > 0:\n",
    "        template_obj = {}\n",
    "        side = random.randint(3,8)\n",
    "        sides = [side]\n",
    "        template_question = raplace_parameters(template,sides)\n",
    "        template_obj[\"question\"] = template_question\n",
    "        question_options = [\"Triangle,Rectangle,Pentagon,Hexagon,Heptagon,Octagon\"]\n",
    "        for i in range(5):\n",
    "            if side ==3:\n",
    "                template_obj[\"answer\"] = \"Traingle\"\n",
    "            elif side == 4:\n",
    "                template_obj[\"answer\"] = \"Rectangle\"\n",
    "            elif side == 5:\n",
    "                template_obj[\"answer\"] = \"Pentagon\"\n",
    "            elif side == 6:\n",
    "                template_obj[\"answer\"] = \"Hexagon\"\n",
    "            elif side == 7:\n",
    "                template_obj[\"answer\"] = \"Heptagon\"\n",
    "            else:\n",
    "                template_obj[\"answer\"] = \"Octagon\"       \n",
    "        duplicity-=1\n",
    "        template_obj[\"options\"]=question_options\n",
    "        list_of_json_object.append(template_obj)\n",
    "    return list_of_json_object"
   ]
  },
  {
   "cell_type": "code",
   "execution_count": 12,
   "metadata": {},
   "outputs": [
    {
     "name": "stdout",
     "output_type": "stream",
     "text": [
      "[{'question': 'There are 6 sides of a polygon. What type of polygon is this one?', 'answer': 'Hexagon', 'options': ['Triangle,Rectangle,Pentagon,Hexagon,Heptagon,Octagon']}, {'question': 'There are 3 sides of a polygon. What type of polygon is this one?', 'answer': 'Traingle', 'options': ['Triangle,Rectangle,Pentagon,Hexagon,Heptagon,Octagon']}, {'question': 'There are 8 sides of a polygon. What type of polygon is this one?', 'answer': 'Octagon', 'options': ['Triangle,Rectangle,Pentagon,Hexagon,Heptagon,Octagon']}, {'question': 'There are 6 sides of a polygon. What type of polygon is this one?', 'answer': 'Hexagon', 'options': ['Triangle,Rectangle,Pentagon,Hexagon,Heptagon,Octagon']}, {'question': 'There are 5 sides of a polygon. What type of polygon is this one?', 'answer': 'Pentagon', 'options': ['Triangle,Rectangle,Pentagon,Hexagon,Heptagon,Octagon']}]\n"
     ]
    }
   ],
   "source": [
    "list_of_json_object.clear()\n",
    "polygon(list_of_json_object)\n",
    "print(list_of_json_object)"
   ]
  },
  {
   "cell_type": "code",
   "execution_count": 13,
   "metadata": {},
   "outputs": [],
   "source": [
    "def general_physics(list_of_json_object):\n",
    "    objects = {\"water\":\"1496\",\"wood\":\"3960\",\"glass\":\"5640\",\"aluminium\":\"6420\",\"mercury\":\"1540\"}\n",
    "    key_list = list(objects.keys()) \n",
    "    val_list = list(objects.values())\n",
    "    ref_air = {\"air\":\"343\"}\n",
    "    template = \"Sound travels faster in denser medium than air. What is the speed of sound in $1 ?\"\n",
    "    duplicity = 5\n",
    "    while duplicity > 0:\n",
    "        template_obj = {}\n",
    "        medium = random.randint(0,4)\n",
    "        template_question = raplace_parameters(template,[key_list[medium]])\n",
    "        template_obj[\"question\"] = template_question\n",
    "        template_obj[\"answer\"] = str(val_list[medium])\n",
    "        question_options = []\n",
    "        question_options.append(str(val_list[medium]))\n",
    "        for i in range(4):\n",
    "            question_options.append(str(random.randint(100,int(ref_air[\"air\"])-1)))\n",
    "        template_obj[\"options\"] = question_options\n",
    "        list_of_json_object.append(template_obj)\n",
    "        duplicity-=1"
   ]
  },
  {
   "cell_type": "code",
   "execution_count": 14,
   "metadata": {},
   "outputs": [
    {
     "name": "stdout",
     "output_type": "stream",
     "text": [
      "[{'question': 'Sound travels faster in denser medium than air. What is the speed of sound in wood ?', 'answer': '3960', 'options': ['3960', '224', '169', '320', '150']}, {'question': 'Sound travels faster in denser medium than air. What is the speed of sound in glass ?', 'answer': '5640', 'options': ['5640', '186', '339', '127', '155']}, {'question': 'Sound travels faster in denser medium than air. What is the speed of sound in mercury ?', 'answer': '1540', 'options': ['1540', '210', '262', '292', '236']}, {'question': 'Sound travels faster in denser medium than air. What is the speed of sound in mercury ?', 'answer': '1540', 'options': ['1540', '330', '175', '302', '336']}, {'question': 'Sound travels faster in denser medium than air. What is the speed of sound in water ?', 'answer': '1496', 'options': ['1496', '317', '255', '134', '187']}]\n"
     ]
    }
   ],
   "source": [
    "list_of_json_object.clear()\n",
    "general_physics(list_of_json_object)\n",
    "print(list_of_json_object)"
   ]
  },
  {
   "cell_type": "code",
   "execution_count": 23,
   "metadata": {},
   "outputs": [],
   "source": [
    "def age_problem(list_of_json_object):\n",
    "    template = \"$1 is younger than $2 by $3 years. $4 years ago $2 was $5 years old. What is $1 's age today?\"\n",
    "    younger_names = [\"Tom\",\"Anthony\",\"Stephnie\",\"Rahul\",\"Prashanth\",\"Mokshitha\"]\n",
    "    older_names = names = [\"Mill\",\"Jessi\",\"Sandeep\",\"Chandra\",\"Mariya\",\"Ron\"]\n",
    "    yonger_age = random.randint(1,5)\n",
    "    age_in_year = random.randint(5,15)\n",
    "    actual_age = random.randint(25,35)\n",
    "    duplicity = 5\n",
    "    while duplicity > 0:\n",
    "        template_obj = {}\n",
    "        options = []\n",
    "        younger_name = younger_names[random.randint(0,5)]\n",
    "        older_name = older_names[random.randint(0,5)]\n",
    "        yonger_age = random.randint(1,5)\n",
    "        age_in_year = random.randint(5,15)\n",
    "        actual_age = random.randint(25,35)\n",
    "        temp_variables = [younger_name,older_name,yonger_age,age_in_year,actual_age]\n",
    "        template_question = raplace_parameters(template,temp_variables)\n",
    "        template_obj[\"question\"] = template_question\n",
    "        answer = actual_age + age_in_year - yonger_age\n",
    "        template_obj[\"answer\"] = answer\n",
    "        options.append(str(answer))\n",
    "        for i in range(4):\n",
    "            opt = actual_age + age_in_year*random.randint(1,3) + random.randint(1,3)*yonger_age\n",
    "            options.append(str(opt))\n",
    "        template_obj[\"options\"] = options\n",
    "        list_of_json_object.append(template_obj)\n",
    "        duplicity-=1\n",
    "    return list_of_json_object"
   ]
  },
  {
   "cell_type": "code",
   "execution_count": 24,
   "metadata": {},
   "outputs": [
    {
     "name": "stdout",
     "output_type": "stream",
     "text": [
      "[{'question': \"Mokshitha is younger than Jessi by 3 years. 10 years ago Jessi was 30 years old. What is Mokshitha 's age today?\", 'answer': 37, 'options': ['37', '56', '69', '59', '53']}, {'question': \"Stephnie is younger than Mariya by 2 years. 12 years ago Mariya was 29 years old. What is Stephnie 's age today?\", 'answer': 39, 'options': ['39', '59', '43', '43', '57']}, {'question': \"Mokshitha is younger than Chandra by 4 years. 12 years ago Chandra was 32 years old. What is Mokshitha 's age today?\", 'answer': 40, 'options': ['40', '48', '76', '80', '52']}, {'question': \"Anthony is younger than Mariya by 3 years. 12 years ago Mariya was 26 years old. What is Anthony 's age today?\", 'answer': 35, 'options': ['35', '53', '71', '56', '41']}, {'question': \"Stephnie is younger than Mariya by 5 years. 7 years ago Mariya was 35 years old. What is Stephnie 's age today?\", 'answer': 37, 'options': ['37', '64', '52', '61', '57']}]\n"
     ]
    }
   ],
   "source": [
    "list_of_json_object.clear()\n",
    "age_problem(list_of_json_object)\n",
    "print(list_of_json_object)"
   ]
  },
  {
   "cell_type": "code",
   "execution_count": 27,
   "metadata": {},
   "outputs": [],
   "source": [
    "def perimeter(list_of_json_object):\n",
    "    template = \"The side of an square is $1 . What is the perimeter of the square?\"\n",
    "    duplicity = 5\n",
    "    while(duplicity>0):\n",
    "        template_obj = {}\n",
    "        options = []\n",
    "        side = random.randint(1,100)\n",
    "        template_question = raplace_parameters(template,[side])\n",
    "        template_obj[\"question\"] = template_question\n",
    "        ans = side * 4\n",
    "        template_obj[\"answer\"] = ans\n",
    "        options.append(str(ans))\n",
    "        for i in range(4):\n",
    "            options.append(side*random.randint(5,10))\n",
    "        template_obj[\"options\"] = options\n",
    "        duplicity-=1\n",
    "        list_of_json_object.append(template_obj)\n",
    "    return list_of_json_object"
   ]
  },
  {
   "cell_type": "code",
   "execution_count": 28,
   "metadata": {},
   "outputs": [
    {
     "name": "stdout",
     "output_type": "stream",
     "text": [
      "[{'question': 'The side of an square is 80 . What is the perimeter of the square?', 'answer': 320, 'options': ['320', 560, 720, 560, 400]}, {'question': 'The side of an square is 39 . What is the perimeter of the square?', 'answer': 156, 'options': ['156', 273, 195, 312, 312]}, {'question': 'The side of an square is 51 . What is the perimeter of the square?', 'answer': 204, 'options': ['204', 255, 357, 306, 459]}, {'question': 'The side of an square is 13 . What is the perimeter of the square?', 'answer': 52, 'options': ['52', 130, 117, 78, 91]}, {'question': 'The side of an square is 92 . What is the perimeter of the square?', 'answer': 368, 'options': ['368', 552, 552, 828, 920]}]\n"
     ]
    }
   ],
   "source": [
    "list_of_json_object.clear()\n",
    "perimeter(list_of_json_object)\n",
    "print(list_of_json_object)"
   ]
  },
  {
   "cell_type": "code",
   "execution_count": 29,
   "metadata": {},
   "outputs": [],
   "source": [
    "def age_problem_older(list_of_json_object):\n",
    "    template = \"$1 is older than $2 by $3 years. $4 years ago $2 was $5 years old. What is $1 's age today?\"\n",
    "    younger_names = [\"Tom\",\"Anthony\",\"Stephnie\",\"Rahul\",\"Prashanth\",\"Mokshitha\"]\n",
    "    older_names = names = [\"Mill\",\"Jessi\",\"Sandeep\",\"Chandra\",\"Mariya\",\"Ron\"]\n",
    "    yonger_age = random.randint(1,5)\n",
    "    age_in_year = random.randint(5,15)\n",
    "    actual_age = random.randint(25,35)\n",
    "    duplicity = 5\n",
    "    while duplicity > 0:\n",
    "        template_obj = {}\n",
    "        options = []\n",
    "        younger_name = younger_names[random.randint(0,5)]\n",
    "        older_name = older_names[random.randint(0,5)]\n",
    "        yonger_age = random.randint(1,5)\n",
    "        age_in_year = random.randint(5,15)\n",
    "        actual_age = random.randint(25,35)\n",
    "        temp_variables = [younger_name,older_name,yonger_age,age_in_year,actual_age]\n",
    "        template_question = raplace_parameters(template,temp_variables)\n",
    "        template_obj[\"question\"] = template_question\n",
    "        answer = actual_age + age_in_year + yonger_age\n",
    "        template_obj[\"answer\"] = answer\n",
    "        options.append(str(answer))\n",
    "        for i in range(4):\n",
    "            opt = actual_age + age_in_year*random.randint(1,3) - random.randint(1,3)*yonger_age\n",
    "            options.append(str(opt))\n",
    "        template_obj[\"options\"] = options\n",
    "        list_of_json_object.append(template_obj)\n",
    "        duplicity-=1\n",
    "    return list_of_json_object"
   ]
  },
  {
   "cell_type": "code",
   "execution_count": 30,
   "metadata": {},
   "outputs": [
    {
     "name": "stdout",
     "output_type": "stream",
     "text": [
      "[{'question': \"Anthony is older than Mill by 4 years. 6 years ago Mill was 27 years old. What is Anthony 's age today?\", 'answer': 37, 'options': ['37', '35', '25', '33', '33']}, {'question': \"Tom is older than Mill by 3 years. 11 years ago Mill was 33 years old. What is Tom 's age today?\", 'answer': 47, 'options': ['47', '46', '52', '57', '41']}, {'question': \"Mokshitha is older than Sandeep by 4 years. 14 years ago Sandeep was 26 years old. What is Mokshitha 's age today?\", 'answer': 44, 'options': ['44', '36', '28', '28', '50']}, {'question': \"Stephnie is older than Chandra by 3 years. 15 years ago Chandra was 25 years old. What is Stephnie 's age today?\", 'answer': 43, 'options': ['43', '49', '61', '49', '64']}, {'question': \"Tom is older than Mariya by 1 years. 5 years ago Mariya was 33 years old. What is Tom 's age today?\", 'answer': 39, 'options': ['39', '47', '37', '45', '41']}]\n"
     ]
    }
   ],
   "source": [
    "list_of_json_object.clear()\n",
    "age_problem_older(list_of_json_object)\n",
    "print(list_of_json_object)"
   ]
  },
  {
   "cell_type": "code",
   "execution_count": 51,
   "metadata": {},
   "outputs": [],
   "source": [
    "def mean(list_of_json_object):\n",
    "    verbs = [\"height\",\"weight\",\"length\",\"area\",\"size\"]\n",
    "    nouns = [\"human\",\"martians\",\"tigers\",\"elephants\",\"kangaroos\",\"cats\",\"dogs\"]\n",
    "    template = \"What is the mean $1 of the set of given $2 ? $3\"\n",
    "    duplicity = 5\n",
    "    while duplicity > 0:\n",
    "        template_obj = {}\n",
    "        options = []\n",
    "        verb = verbs[random.randint(0,4)]\n",
    "        noun = nouns[random.randint(0,6)]\n",
    "        set_of_obj = \"\"\n",
    "        sum_ = 0\n",
    "        length = random.randint(5,10)\n",
    "        for i in range(length):\n",
    "            obj  = random.randint(1,50)\n",
    "            sum_ += obj\n",
    "            set_of_obj+=(str(obj)+\" \")\n",
    "        temp_variables = [verb,noun,set_of_obj]\n",
    "        template_question = raplace_parameters(template,temp_variables)\n",
    "        template_obj[\"question\"] = template_question\n",
    "        ans = sum_ / length\n",
    "        ans = str(\"%.2f\" % ans)\n",
    "        template_obj[\"answer\"] = ans\n",
    "        options.append(ans)\n",
    "        for i in range(4):\n",
    "            opt = float(ans) * random.randint(2,5)\n",
    "            opt = str(\"%.2f\" % opt)\n",
    "            options.append(opt)\n",
    "        template_obj[\"options\"] = options\n",
    "        list_of_json_object.append(template_obj)\n",
    "        duplicity-=1\n",
    "    return list_of_json_object      "
   ]
  },
  {
   "cell_type": "code",
   "execution_count": 52,
   "metadata": {},
   "outputs": [
    {
     "name": "stdout",
     "output_type": "stream",
     "text": [
      "[{'question': 'What is the mean length of the set of given elephants ? 32 30 43 12 24 24 21 11 5 17 ', 'answer': '21.90', 'options': ['21.90', '65.70', '65.70', '65.70', '109.50']}, {'question': 'What is the mean area of the set of given cats ? 37 29 16 43 44 41 41 ', 'answer': '35.86', 'options': ['35.86', '179.30', '143.44', '71.72', '143.44']}, {'question': 'What is the mean length of the set of given elephants ? 25 30 28 29 49 25 30 46 21 45 ', 'answer': '32.80', 'options': ['32.80', '65.60', '131.20', '164.00', '164.00']}, {'question': 'What is the mean height of the set of given kangaroos ? 41 41 6 2 20 23 ', 'answer': '22.17', 'options': ['22.17', '66.51', '110.85', '110.85', '66.51']}, {'question': 'What is the mean length of the set of given kangaroos ? 8 12 3 14 40 40 8 27 ', 'answer': '19.00', 'options': ['19.00', '76.00', '38.00', '57.00', '95.00']}]\n"
     ]
    }
   ],
   "source": [
    "list_of_json_object.clear()\n",
    "mean(list_of_json_object)\n",
    "print(list_of_json_object)"
   ]
  },
  {
   "cell_type": "code",
   "execution_count": 60,
   "metadata": {},
   "outputs": [],
   "source": [
    "def median(list_of_json_object):\n",
    "    verbs = [\"height\",\"weight\",\"length\",\"area\",\"size\"]\n",
    "    nouns = [\"human\",\"martians\",\"tigers\",\"elephants\",\"kangaroos\",\"cats\",\"dogs\"]\n",
    "    template = \"What is the median $1 of the set of given $2 ? $3\"\n",
    "    duplicity = 5\n",
    "    while duplicity > 0:\n",
    "        template_obj = {}\n",
    "        options = []\n",
    "        verb = verbs[random.randint(0,4)]\n",
    "        noun = nouns[random.randint(0,6)]\n",
    "        median_set = []\n",
    "        set_of_obj = \"\"\n",
    "        length = random.randint(5,10)\n",
    "        for i in range(length):\n",
    "            obj  = random.randint(1,50)\n",
    "            set_of_obj+=(str(obj)+\" \")\n",
    "            median_set.append(obj)\n",
    "        temp_variables = [verb,noun,set_of_obj]\n",
    "        template_question = raplace_parameters(template,temp_variables)\n",
    "        template_obj[\"question\"] = template_question\n",
    "        median_set.sort()\n",
    "        ans = 0\n",
    "        if len(median_set)%2==0:\n",
    "            ans = (median_set[int(len(median_set)/2)] + median_set[int(len(median_set)/2)-1])/2\n",
    "        else:\n",
    "            ans = (median_set[int(len(median_set)/2)])\n",
    "        ans = str(\"%.2f\" % ans)\n",
    "        template_obj[\"answer\"] = ans\n",
    "        options.append(ans)\n",
    "        for i in range(4):\n",
    "            opt = float(median_set[random.randint(0,length-1)])\n",
    "            opt = str(\"%.2f\" % opt)\n",
    "            options.append(opt)\n",
    "        template_obj[\"options\"] = options\n",
    "        list_of_json_object.append(template_obj)\n",
    "        duplicity-=1\n",
    "    return list_of_json_object "
   ]
  },
  {
   "cell_type": "code",
   "execution_count": 61,
   "metadata": {},
   "outputs": [
    {
     "name": "stdout",
     "output_type": "stream",
     "text": [
      "[{'question': 'What is the median length of the set of given tigers ? 14 22 38 13 36 5 22 ', 'answer': '22.00', 'options': ['22.00', '38.00', '38.00', '36.00', '13.00']}, {'question': 'What is the median height of the set of given elephants ? 6 34 15 34 22 6 ', 'answer': '18.50', 'options': ['18.50', '22.00', '6.00', '22.00', '34.00']}, {'question': 'What is the median height of the set of given human ? 49 32 49 15 27 49 42 ', 'answer': '42.00', 'options': ['42.00', '27.00', '27.00', '49.00', '32.00']}, {'question': 'What is the median length of the set of given human ? 46 3 47 4 26 33 17 29 ', 'answer': '27.50', 'options': ['27.50', '46.00', '29.00', '4.00', '17.00']}, {'question': 'What is the median length of the set of given cats ? 34 6 40 36 16 49 28 47 24 ', 'answer': '34.00', 'options': ['34.00', '47.00', '47.00', '40.00', '28.00']}]\n"
     ]
    }
   ],
   "source": [
    "list_of_json_object.clear()\n",
    "median(list_of_json_object)\n",
    "print(list_of_json_object)"
   ]
  },
  {
   "cell_type": "code",
   "execution_count": null,
   "metadata": {},
   "outputs": [],
   "source": []
  }
 ],
 "metadata": {
  "kernelspec": {
   "display_name": "Python 3",
   "language": "python",
   "name": "python3"
  },
  "language_info": {
   "codemirror_mode": {
    "name": "ipython",
    "version": 3
   },
   "file_extension": ".py",
   "mimetype": "text/x-python",
   "name": "python",
   "nbconvert_exporter": "python",
   "pygments_lexer": "ipython3",
   "version": "3.7.6"
  }
 },
 "nbformat": 4,
 "nbformat_minor": 4
}
