{
 "cells": [
  {
   "cell_type": "code",
   "execution_count": 1,
   "metadata": {},
   "outputs": [],
   "source": [
    "names = [\"Saanvi\",\"Anya\",\"Aadhya\",\"Aaradhya\",\"Ananya\",\"Pari\",\"Anika\",\"Navya\",\"Angel\",\"Diya\",\"Myra\",\"Sara\",\"Iraa\",\"Ahana\",\"Anvi\",\"Prisha\",\"Riya\",\"Aarohi\",\"Anaya\",\"Akshara\",\"Eva\",\"Shanaya\",\"Kyra\",\"Siya\",\"Aarav\",\"Vihaan\",\"Vivaan\",\"Ananya\",\"Diya\",\"Advik\",\"Kabir\",\"Anaya\",\"Aarav\",\"Vivaan\",\"Aditya\",\"Vivaan\",\"Vihaan\",\"Arjun\",\"Vivaan\",\"Reyansh\",\"Mohammed\",\"Sai\",\"Arnav\",\"Aayan\",\"Krishna\",\"Ishaan\",\"Shaurya\",\"Atharva\",\"Advik\",\"Pranav\",\"Advaith\",\"Aaryan\",\"Dhruv\",\"Kabir\",\"Ritvik\",\"Aarush\",\"Kian\",\"Darsh\",\"Veer\"]"
   ]
  },
  {
   "cell_type": "code",
   "execution_count": 2,
   "metadata": {},
   "outputs": [],
   "source": [
    "import random\n",
    "option = []\n",
    "Q_A = []"
   ]
  },
  {
   "cell_type": "code",
   "execution_count": 3,
   "metadata": {},
   "outputs": [
    {
     "name": "stdout",
     "output_type": "stream",
     "text": [
      "[{'question': 'Diya wants to put a picture in a frame.The frame is 1.6580295570175123 metres wide. What can be the width of the picture?', 'answer': 1.139997001150327, 'option': [2.2591086005247467, 2.1417453515142038, 2.849791878264784]}, {'question': 'Navya wants to put a picture in a frame.The frame is 1.3711220562753728 metres wide. What can be the width of the picture?', 'answer': 0.009147841291845428, 'option': [3.189697200233233, 1.9969790303685753, 2.198044644922855]}, {'question': 'Siya wants to put a picture in a frame.The frame is 0.8213579167431677 metres wide. What can be the width of the picture?', 'answer': 0.16485902420116286, 'option': [1.2663182927587848, 1.7672954563541956, 3.063663769058711]}, {'question': 'Dhruv wants to put a picture in a frame.The frame is 0.8776998862050938 metres wide. What can be the width of the picture?', 'answer': 0.2499577533837835, 'option': [1.648063727802648, 3.4172394357275007, 2.1148963466518533]}]\n"
     ]
    }
   ],
   "source": [
    "temp = \"{} wants to put a picture in a frame.The frame is {} metres wide. What can be the width of the picture?\"\n",
    "j = 4\n",
    "while j > 0:\n",
    "    d = {}\n",
    "    option = []\n",
    "    number = random.uniform(0,2)\n",
    "    number_cm = number * 100\n",
    "    answer = random.uniform(0,number)\n",
    "    i = 3\n",
    "    while i > 0:\n",
    "        option.append(random.uniform(number,4))\n",
    "        i -= 1\n",
    "    d[\"question\"] = temp.format(random.sample(names,1)[0],number)\n",
    "    d[\"answer\"] = answer\n",
    "    d[\"option\"] = option\n",
    "    Q_A.append(d)\n",
    "    j -= 1 \n",
    "print(Q_A)\n"
   ]
  },
  {
   "cell_type": "code",
   "execution_count": 4,
   "metadata": {},
   "outputs": [
    {
     "name": "stdout",
     "output_type": "stream",
     "text": [
      "[{'question': 'Diya wants to put a picture in a frame.The frame is 1.6580295570175123 metres wide. What can be the width of the picture?', 'answer': 1.139997001150327, 'option': [2.2591086005247467, 2.1417453515142038, 2.849791878264784]}, {'question': 'Navya wants to put a picture in a frame.The frame is 1.3711220562753728 metres wide. What can be the width of the picture?', 'answer': 0.009147841291845428, 'option': [3.189697200233233, 1.9969790303685753, 2.198044644922855]}, {'question': 'Siya wants to put a picture in a frame.The frame is 0.8213579167431677 metres wide. What can be the width of the picture?', 'answer': 0.16485902420116286, 'option': [1.2663182927587848, 1.7672954563541956, 3.063663769058711]}, {'question': 'Dhruv wants to put a picture in a frame.The frame is 0.8776998862050938 metres wide. What can be the width of the picture?', 'answer': 0.2499577533837835, 'option': [1.648063727802648, 3.4172394357275007, 2.1148963466518533]}, {'question': 'The salary of Vihaan increased from 610 per month to 695 per month while the salary of Sai increased from 326 to 375 and of Ishaan increased from 770 to 823 per month. What is the greatest increase in salary among these three?', 'answer': 'Ishaan', 'option': ['Vihaan', 'Sai', 'Ishaan', 'none of the above']}, {'question': 'The salary of Atharva increased from 436 per month to 747 per month while the salary of Aayan increased from 754 to 858 and of Ananya increased from 605 to 736 per month. What is the greatest increase in salary among these three?', 'answer': 'Ananya', 'option': ['Atharva', 'Aayan', 'Ananya', 'none of the above']}, {'question': 'The salary of Kabir increased from 933 per month to 999 per month while the salary of Ritvik increased from 621 to 747 and of Myra increased from 368 to 746 per month. What is the greatest increase in salary among these three?', 'answer': 'Myra', 'option': ['Kabir', 'Ritvik', 'Myra', 'none of the above']}, {'question': 'The salary of Prisha increased from 570 per month to 620 per month while the salary of Prisha increased from 403 to 997 and of Kabir increased from 333 to 354 per month. What is the greatest increase in salary among these three?', 'answer': 'Kabir', 'option': ['Prisha', 'Prisha', 'Kabir', 'none of the above']}]\n"
     ]
    }
   ],
   "source": [
    "diff = []\n",
    "Q_A_2 = []\n",
    "temp1 = \"The salary of {} increased from {} per month to {} per month while the salary of {} increased from {} to {} and of {} increased from {} to {} per month. What is the greatest increase in salary among these three?\"\n",
    "j = 4\n",
    "while j > 0:\n",
    "    d = {}\n",
    "    option = []\n",
    "    person = []\n",
    "    number1 = random.randint(300,1000)\n",
    "    increase1 = random.randint(number1,1000)\n",
    "    person.append(random.choice(names))\n",
    "    diff1  = abs(number1 - increase1)\n",
    "    diff.append(diff1)\n",
    "\n",
    "    number2 = random.randint(300,1000)\n",
    "    increase2 = random.randint(number2,1000)\n",
    "    person.append(random.choice(list(set(names)-set(person[0]))))\n",
    "    diff2  = abs(number2 - increase2)\n",
    "    diff.append(diff2)\n",
    "\n",
    "    number3 = random.randint(300,1000)\n",
    "    increase3 = random.randint(number3,1000)\n",
    "    person.append(random.choice(list(set(names)-set(person[0])-set(person[1]))))\n",
    "    diff3  = abs(number3 - increase3)\n",
    "    diff.append(diff3)\n",
    "    n = 0\n",
    "    for i in range(3):\n",
    "        if diff[i] >n:\n",
    "            answer = person[i]\n",
    "        option.append(person[i])\n",
    "    option.append(\"none of the above\")\n",
    "    d[\"question\"] = temp1.format(person[0],number1, increase1,person[1],number2, increase2,person[2],number3, increase3)\n",
    "    d[\"answer\"] = answer\n",
    "    d[\"option\"] = option\n",
    "    Q_A.append(d)\n",
    "    j -= 1\n",
    "print(Q_A)\n"
   ]
  },
  {
   "cell_type": "code",
   "execution_count": 5,
   "metadata": {},
   "outputs": [
    {
     "name": "stdout",
     "output_type": "stream",
     "text": [
      "[{'question': 'Diya wants to put a picture in a frame.The frame is 1.6580295570175123 metres wide. What can be the width of the picture?', 'answer': 1.139997001150327, 'option': [2.2591086005247467, 2.1417453515142038, 2.849791878264784]}, {'question': 'Navya wants to put a picture in a frame.The frame is 1.3711220562753728 metres wide. What can be the width of the picture?', 'answer': 0.009147841291845428, 'option': [3.189697200233233, 1.9969790303685753, 2.198044644922855]}, {'question': 'Siya wants to put a picture in a frame.The frame is 0.8213579167431677 metres wide. What can be the width of the picture?', 'answer': 0.16485902420116286, 'option': [1.2663182927587848, 1.7672954563541956, 3.063663769058711]}, {'question': 'Dhruv wants to put a picture in a frame.The frame is 0.8776998862050938 metres wide. What can be the width of the picture?', 'answer': 0.2499577533837835, 'option': [1.648063727802648, 3.4172394357275007, 2.1148963466518533]}, {'question': 'The salary of Vihaan increased from 610 per month to 695 per month while the salary of Sai increased from 326 to 375 and of Ishaan increased from 770 to 823 per month. What is the greatest increase in salary among these three?', 'answer': 'Ishaan', 'option': ['Vihaan', 'Sai', 'Ishaan', 'none of the above']}, {'question': 'The salary of Atharva increased from 436 per month to 747 per month while the salary of Aayan increased from 754 to 858 and of Ananya increased from 605 to 736 per month. What is the greatest increase in salary among these three?', 'answer': 'Ananya', 'option': ['Atharva', 'Aayan', 'Ananya', 'none of the above']}, {'question': 'The salary of Kabir increased from 933 per month to 999 per month while the salary of Ritvik increased from 621 to 747 and of Myra increased from 368 to 746 per month. What is the greatest increase in salary among these three?', 'answer': 'Myra', 'option': ['Kabir', 'Ritvik', 'Myra', 'none of the above']}, {'question': 'The salary of Prisha increased from 570 per month to 620 per month while the salary of Prisha increased from 403 to 997 and of Kabir increased from 333 to 354 per month. What is the greatest increase in salary among these three?', 'answer': 'Kabir', 'option': ['Prisha', 'Prisha', 'Kabir', 'none of the above']}, {'question': ' Out of 3000000 million bacteria grown for an experiment, 1 in 780000000 million has a particular mutation. Approximately how many of the bacteria have the mutation?', 'option': [0.004, 568, 852, 668], 'answer': 0.004}, {'question': ' Out of 59000000000 billion bacteria grown for an experiment, 1 in 593000000 million has a particular mutation. Approximately how many of the bacteria have the mutation?', 'option': [99.494, 181, 687, 992], 'answer': 99.494}, {'question': ' Out of 13000000000 billion bacteria grown for an experiment, 1 in 357000000 million has a particular mutation. Approximately how many of the bacteria have the mutation?', 'option': [75, 923, 36.415, 511], 'answer': 36.415}, {'question': ' Out of 50000000000 billion bacteria grown for an experiment, 1 in 969000000 million has a particular mutation. Approximately how many of the bacteria have the mutation?', 'option': [104, 51.6, 979, 407], 'answer': 51.6}]\n"
     ]
    }
   ],
   "source": [
    "count = {\"billion\":1000000000,\"million\":1000000,\"thousand\":1000}\n",
    "du = [\"billion\",'million']\n",
    "dup = [\"million\",\"thousand\"]\n",
    "Q_A_3 = []\n",
    "temp2 = \" Out of {} {} bacteria grown for an experiment, 1 in {} {} has a particular mutation. Approximately how many of the bacteria have the mutation?\"\n",
    "j = 4\n",
    "while j > 0:\n",
    "    d = {}\n",
    "    option = []\n",
    "    number1 = random.randint(1,100)\n",
    "    number2 = random.randint(1,999)\n",
    "    count1 = random.choice(du)\n",
    "    count2 = random.choice(dup)\n",
    "    number1 = number1 * count[count1]\n",
    "    number2 = number2 * count[count2]\n",
    "    answer = round(number1/ number2,3)\n",
    "    i = 3\n",
    "    while i > 0:\n",
    "        option.append(random.randint(1,1000))\n",
    "        i -= 1\n",
    "    option.append(answer)\n",
    "    random.shuffle(option)\n",
    "    d[\"question\"] = temp2.format(number1,count1,number2,count2)\n",
    "    d[\"option\"] = option\n",
    "    d[\"answer\"] = answer\n",
    "    Q_A.append(d)\n",
    "    j -= 1\n",
    "print(Q_A)\n"
   ]
  },
  {
   "cell_type": "code",
   "execution_count": 6,
   "metadata": {},
   "outputs": [],
   "source": [
    "#     d[\"question\"]\n",
    "#     d[\"option\"]\n",
    "#     d[\"answer\"]\n",
    "\n",
    "# Q_A_4 = []\n",
    "# j = 4\n",
    "# while j > 0:\n",
    "    # d= {}\n",
    "    # option = []\n",
    "#     j-=1"
   ]
  },
  {
   "cell_type": "code",
   "execution_count": 7,
   "metadata": {},
   "outputs": [
    {
     "name": "stdout",
     "output_type": "stream",
     "text": [
      "[{'question': 'Diya wants to put a picture in a frame.The frame is 1.6580295570175123 metres wide. What can be the width of the picture?', 'answer': 1.139997001150327, 'option': [2.2591086005247467, 2.1417453515142038, 2.849791878264784]}, {'question': 'Navya wants to put a picture in a frame.The frame is 1.3711220562753728 metres wide. What can be the width of the picture?', 'answer': 0.009147841291845428, 'option': [3.189697200233233, 1.9969790303685753, 2.198044644922855]}, {'question': 'Siya wants to put a picture in a frame.The frame is 0.8213579167431677 metres wide. What can be the width of the picture?', 'answer': 0.16485902420116286, 'option': [1.2663182927587848, 1.7672954563541956, 3.063663769058711]}, {'question': 'Dhruv wants to put a picture in a frame.The frame is 0.8776998862050938 metres wide. What can be the width of the picture?', 'answer': 0.2499577533837835, 'option': [1.648063727802648, 3.4172394357275007, 2.1148963466518533]}, {'question': 'The salary of Vihaan increased from 610 per month to 695 per month while the salary of Sai increased from 326 to 375 and of Ishaan increased from 770 to 823 per month. What is the greatest increase in salary among these three?', 'answer': 'Ishaan', 'option': ['Vihaan', 'Sai', 'Ishaan', 'none of the above']}, {'question': 'The salary of Atharva increased from 436 per month to 747 per month while the salary of Aayan increased from 754 to 858 and of Ananya increased from 605 to 736 per month. What is the greatest increase in salary among these three?', 'answer': 'Ananya', 'option': ['Atharva', 'Aayan', 'Ananya', 'none of the above']}, {'question': 'The salary of Kabir increased from 933 per month to 999 per month while the salary of Ritvik increased from 621 to 747 and of Myra increased from 368 to 746 per month. What is the greatest increase in salary among these three?', 'answer': 'Myra', 'option': ['Kabir', 'Ritvik', 'Myra', 'none of the above']}, {'question': 'The salary of Prisha increased from 570 per month to 620 per month while the salary of Prisha increased from 403 to 997 and of Kabir increased from 333 to 354 per month. What is the greatest increase in salary among these three?', 'answer': 'Kabir', 'option': ['Prisha', 'Prisha', 'Kabir', 'none of the above']}, {'question': ' Out of 3000000 million bacteria grown for an experiment, 1 in 780000000 million has a particular mutation. Approximately how many of the bacteria have the mutation?', 'option': [0.004, 568, 852, 668], 'answer': 0.004}, {'question': ' Out of 59000000000 billion bacteria grown for an experiment, 1 in 593000000 million has a particular mutation. Approximately how many of the bacteria have the mutation?', 'option': [99.494, 181, 687, 992], 'answer': 99.494}, {'question': ' Out of 13000000000 billion bacteria grown for an experiment, 1 in 357000000 million has a particular mutation. Approximately how many of the bacteria have the mutation?', 'option': [75, 923, 36.415, 511], 'answer': 36.415}, {'question': ' Out of 50000000000 billion bacteria grown for an experiment, 1 in 969000000 million has a particular mutation. Approximately how many of the bacteria have the mutation?', 'option': [104, 51.6, 979, 407], 'answer': 51.6}, {'question': 'A tank has a capacity of 85 pints. How many gallons of water would it take to fill the tank to 1/9 of its capacity?', 'option': [74, 70, 81, 9.44], 'answer': 9.44}, {'question': 'A tank has a capacity of 65 pints. How many gallons of water would it take to fill the tank to 2/6 of its capacity?', 'option': [21.67, 15, 18, 55], 'answer': 21.67}, {'question': 'A tank has a capacity of 67 gallons. How many gallons of water would it take to fill the tank to 3/10 of its capacity?', 'option': [57, 82, 49, 20.1], 'answer': 20.1}, {'question': 'A tank has a capacity of 90 gallons. How many gallons of water would it take to fill the tank to 5/7 of its capacity?', 'option': [22, 61, 30, 64.29], 'answer': 64.29}]\n"
     ]
    }
   ],
   "source": [
    "measure = [\"pints\",\"gallons\"]\n",
    "\n",
    "temp3 = \"A tank has a capacity of {} {}. How many gallons of water would it take to fill the tank to {}/{} of its capacity?\"\n",
    "j = 4\n",
    "Q_A_4 = []\n",
    "while j > 0:\n",
    "    d = {}\n",
    "    option = []\n",
    "    measure1 = random.choice(measure)\n",
    "    if measure1 == \"pints\":\n",
    "        number = random.randint(200,1000)\n",
    "        number = number//8\n",
    "    else:\n",
    "        number = random.randint(30,100)\n",
    "    number2 = random.randint(1,5)\n",
    "    number3 = random.randint(6,10)\n",
    "    answer = round((number2/number3)*number,2)\n",
    "    i = 3\n",
    "    while i > 0:\n",
    "        option.append(random.randint(10,100))\n",
    "        i -= 1\n",
    "    option.append(answer)\n",
    "    random.shuffle(option)\n",
    "    d[\"question\"] = temp3.format(number,measure1,number2,number3)\n",
    "    d[\"option\"] = option\n",
    "    d[\"answer\"] = answer\n",
    "    j-=1\n",
    "    Q_A.append(d)\n",
    "print(Q_A)"
   ]
  },
  {
   "cell_type": "code",
   "execution_count": 8,
   "metadata": {},
   "outputs": [
    {
     "name": "stdout",
     "output_type": "stream",
     "text": [
      "[{'question': 'Diya wants to put a picture in a frame.The frame is 1.6580295570175123 metres wide. What can be the width of the picture?', 'answer': 1.139997001150327, 'option': [2.2591086005247467, 2.1417453515142038, 2.849791878264784]}, {'question': 'Navya wants to put a picture in a frame.The frame is 1.3711220562753728 metres wide. What can be the width of the picture?', 'answer': 0.009147841291845428, 'option': [3.189697200233233, 1.9969790303685753, 2.198044644922855]}, {'question': 'Siya wants to put a picture in a frame.The frame is 0.8213579167431677 metres wide. What can be the width of the picture?', 'answer': 0.16485902420116286, 'option': [1.2663182927587848, 1.7672954563541956, 3.063663769058711]}, {'question': 'Dhruv wants to put a picture in a frame.The frame is 0.8776998862050938 metres wide. What can be the width of the picture?', 'answer': 0.2499577533837835, 'option': [1.648063727802648, 3.4172394357275007, 2.1148963466518533]}, {'question': 'The salary of Vihaan increased from 610 per month to 695 per month while the salary of Sai increased from 326 to 375 and of Ishaan increased from 770 to 823 per month. What is the greatest increase in salary among these three?', 'answer': 'Ishaan', 'option': ['Vihaan', 'Sai', 'Ishaan', 'none of the above']}, {'question': 'The salary of Atharva increased from 436 per month to 747 per month while the salary of Aayan increased from 754 to 858 and of Ananya increased from 605 to 736 per month. What is the greatest increase in salary among these three?', 'answer': 'Ananya', 'option': ['Atharva', 'Aayan', 'Ananya', 'none of the above']}, {'question': 'The salary of Kabir increased from 933 per month to 999 per month while the salary of Ritvik increased from 621 to 747 and of Myra increased from 368 to 746 per month. What is the greatest increase in salary among these three?', 'answer': 'Myra', 'option': ['Kabir', 'Ritvik', 'Myra', 'none of the above']}, {'question': 'The salary of Prisha increased from 570 per month to 620 per month while the salary of Prisha increased from 403 to 997 and of Kabir increased from 333 to 354 per month. What is the greatest increase in salary among these three?', 'answer': 'Kabir', 'option': ['Prisha', 'Prisha', 'Kabir', 'none of the above']}, {'question': ' Out of 3000000 million bacteria grown for an experiment, 1 in 780000000 million has a particular mutation. Approximately how many of the bacteria have the mutation?', 'option': [0.004, 568, 852, 668], 'answer': 0.004}, {'question': ' Out of 59000000000 billion bacteria grown for an experiment, 1 in 593000000 million has a particular mutation. Approximately how many of the bacteria have the mutation?', 'option': [99.494, 181, 687, 992], 'answer': 99.494}, {'question': ' Out of 13000000000 billion bacteria grown for an experiment, 1 in 357000000 million has a particular mutation. Approximately how many of the bacteria have the mutation?', 'option': [75, 923, 36.415, 511], 'answer': 36.415}, {'question': ' Out of 50000000000 billion bacteria grown for an experiment, 1 in 969000000 million has a particular mutation. Approximately how many of the bacteria have the mutation?', 'option': [104, 51.6, 979, 407], 'answer': 51.6}, {'question': 'A tank has a capacity of 85 pints. How many gallons of water would it take to fill the tank to 1/9 of its capacity?', 'option': [74, 70, 81, 9.44], 'answer': 9.44}, {'question': 'A tank has a capacity of 65 pints. How many gallons of water would it take to fill the tank to 2/6 of its capacity?', 'option': [21.67, 15, 18, 55], 'answer': 21.67}, {'question': 'A tank has a capacity of 67 gallons. How many gallons of water would it take to fill the tank to 3/10 of its capacity?', 'option': [57, 82, 49, 20.1], 'answer': 20.1}, {'question': 'A tank has a capacity of 90 gallons. How many gallons of water would it take to fill the tank to 5/7 of its capacity?', 'option': [22, 61, 30, 64.29], 'answer': 64.29}, {'question': 'How many 1-inch square tiles would it take to cover the floor of a closet that has dimensions 2 feet by 1 feet?', 'option': [7424, 288, 5376, 1673], 'answer': 288}, {'question': 'How many 1-inch square tiles would it take to cover the floor of a closet that has dimensions 1 feet by 1 feet?', 'option': [546, 7468, 144, 3219], 'answer': 144}, {'question': 'How many 1-inch square tiles would it take to cover the floor of a closet that has dimensions 2 feet by 1 feet?', 'option': [1732, 3715, 167, 288], 'answer': 288}, {'question': 'How many 1-inch square tiles would it take to cover the floor of a closet that has dimensions 9 feet by 1 feet?', 'option': [1296, 3492, 9882, 2279], 'answer': 1296}]\n"
     ]
    }
   ],
   "source": [
    "temp4 = \"How many 1-inch square tiles would it take to cover the floor of a closet that has dimensions {} feet by {} feet?\"\n",
    "j = 4\n",
    "Q_A_4 = []\n",
    "while j > 0:\n",
    "    d = {}\n",
    "    option = []\n",
    "    foot1 = random.randint(1,10)\n",
    "    foot2 = random.randint(1,10)\n",
    "    inches1 = foot1 * 12\n",
    "    inches2 = foot2 * 12\n",
    "    answer = inches1 * inches2\n",
    "    i = 3\n",
    "    while i > 0:\n",
    "        option.append(random.randint(100,10000))\n",
    "        i -= 1\n",
    "    option.append(answer)\n",
    "    random.shuffle(option)\n",
    "    d[\"question\"] = temp4.format(foot1,foot2)\n",
    "    d[\"option\"] = option\n",
    "    d[\"answer\"] = answer \n",
    "    Q_A.append(d)\n",
    "    j -= 1\n",
    "print(Q_A)"
   ]
  },
  {
   "cell_type": "code",
   "execution_count": 9,
   "metadata": {},
   "outputs": [
    {
     "name": "stdout",
     "output_type": "stream",
     "text": [
      "[{'question': 'Diya wants to put a picture in a frame.The frame is 1.6580295570175123 metres wide. What can be the width of the picture?', 'answer': 1.139997001150327, 'option': [2.2591086005247467, 2.1417453515142038, 2.849791878264784]}, {'question': 'Navya wants to put a picture in a frame.The frame is 1.3711220562753728 metres wide. What can be the width of the picture?', 'answer': 0.009147841291845428, 'option': [3.189697200233233, 1.9969790303685753, 2.198044644922855]}, {'question': 'Siya wants to put a picture in a frame.The frame is 0.8213579167431677 metres wide. What can be the width of the picture?', 'answer': 0.16485902420116286, 'option': [1.2663182927587848, 1.7672954563541956, 3.063663769058711]}, {'question': 'Dhruv wants to put a picture in a frame.The frame is 0.8776998862050938 metres wide. What can be the width of the picture?', 'answer': 0.2499577533837835, 'option': [1.648063727802648, 3.4172394357275007, 2.1148963466518533]}, {'question': 'The salary of Vihaan increased from 610 per month to 695 per month while the salary of Sai increased from 326 to 375 and of Ishaan increased from 770 to 823 per month. What is the greatest increase in salary among these three?', 'answer': 'Ishaan', 'option': ['Vihaan', 'Sai', 'Ishaan', 'none of the above']}, {'question': 'The salary of Atharva increased from 436 per month to 747 per month while the salary of Aayan increased from 754 to 858 and of Ananya increased from 605 to 736 per month. What is the greatest increase in salary among these three?', 'answer': 'Ananya', 'option': ['Atharva', 'Aayan', 'Ananya', 'none of the above']}, {'question': 'The salary of Kabir increased from 933 per month to 999 per month while the salary of Ritvik increased from 621 to 747 and of Myra increased from 368 to 746 per month. What is the greatest increase in salary among these three?', 'answer': 'Myra', 'option': ['Kabir', 'Ritvik', 'Myra', 'none of the above']}, {'question': 'The salary of Prisha increased from 570 per month to 620 per month while the salary of Prisha increased from 403 to 997 and of Kabir increased from 333 to 354 per month. What is the greatest increase in salary among these three?', 'answer': 'Kabir', 'option': ['Prisha', 'Prisha', 'Kabir', 'none of the above']}, {'question': ' Out of 3000000 million bacteria grown for an experiment, 1 in 780000000 million has a particular mutation. Approximately how many of the bacteria have the mutation?', 'option': [0.004, 568, 852, 668], 'answer': 0.004}, {'question': ' Out of 59000000000 billion bacteria grown for an experiment, 1 in 593000000 million has a particular mutation. Approximately how many of the bacteria have the mutation?', 'option': [99.494, 181, 687, 992], 'answer': 99.494}, {'question': ' Out of 13000000000 billion bacteria grown for an experiment, 1 in 357000000 million has a particular mutation. Approximately how many of the bacteria have the mutation?', 'option': [75, 923, 36.415, 511], 'answer': 36.415}, {'question': ' Out of 50000000000 billion bacteria grown for an experiment, 1 in 969000000 million has a particular mutation. Approximately how many of the bacteria have the mutation?', 'option': [104, 51.6, 979, 407], 'answer': 51.6}, {'question': 'A tank has a capacity of 85 pints. How many gallons of water would it take to fill the tank to 1/9 of its capacity?', 'option': [74, 70, 81, 9.44], 'answer': 9.44}, {'question': 'A tank has a capacity of 65 pints. How many gallons of water would it take to fill the tank to 2/6 of its capacity?', 'option': [21.67, 15, 18, 55], 'answer': 21.67}, {'question': 'A tank has a capacity of 67 gallons. How many gallons of water would it take to fill the tank to 3/10 of its capacity?', 'option': [57, 82, 49, 20.1], 'answer': 20.1}, {'question': 'A tank has a capacity of 90 gallons. How many gallons of water would it take to fill the tank to 5/7 of its capacity?', 'option': [22, 61, 30, 64.29], 'answer': 64.29}, {'question': 'How many 1-inch square tiles would it take to cover the floor of a closet that has dimensions 2 feet by 1 feet?', 'option': [7424, 288, 5376, 1673], 'answer': 288}, {'question': 'How many 1-inch square tiles would it take to cover the floor of a closet that has dimensions 1 feet by 1 feet?', 'option': [546, 7468, 144, 3219], 'answer': 144}, {'question': 'How many 1-inch square tiles would it take to cover the floor of a closet that has dimensions 2 feet by 1 feet?', 'option': [1732, 3715, 167, 288], 'answer': 288}, {'question': 'How many 1-inch square tiles would it take to cover the floor of a closet that has dimensions 9 feet by 1 feet?', 'option': [1296, 3492, 9882, 2279], 'answer': 1296}, {'question': 'Shanaya earns $7 for each ticket that he sells, and a bonus of $2 per ticket for each ticket he sells over 100. If Shanaya was paid $1857, how many tickets did he sell approximately?', 'option': [214, 336, 228, 487], 'answer': 228}, {'question': 'Arnav earns $16 for each ticket that he sells, and a bonus of $2 per ticket for each ticket he sells over 100. If Arnav was paid $4937, how many tickets did he sell approximately?', 'option': [465, 285, 372, 236], 'answer': 285}, {'question': 'Advik earns $20 for each ticket that he sells, and a bonus of $3 per ticket for each ticket he sells over 100. If Advik was paid $2394, how many tickets did he sell approximately?', 'option': [117, 491, 303, 400], 'answer': 117}, {'question': 'Aarav earns $15 for each ticket that he sells, and a bonus of $3 per ticket for each ticket he sells over 100. If Aarav was paid $3305, how many tickets did he sell approximately?', 'option': [318, 326, 200, 116], 'answer': 200}]\n"
     ]
    }
   ],
   "source": [
    "temp6 = '{} earns ${} for each ticket that he sells, and a bonus of ${} per ticket for each ticket he sells over 100. If {} was paid ${}, how many tickets did he sell approximately?'\n",
    "j = 4\n",
    "Q_A_6 = []\n",
    "while j > 0:\n",
    "    d = {}\n",
    "    option = []\n",
    "    number1 = random.randint(5,20)\n",
    "    number2 = random.randint(1,5)\n",
    "    number3 = random.randint(1000,5000)\n",
    "    if number3//number1 >= 100:\n",
    "        answer = (number3 + (number2*100))//(number1+number2)\n",
    "    else:answer = number3//number1\n",
    "    i = 3\n",
    "    while i > 0:\n",
    "        option.append(random.randint(20,500))\n",
    "        i -= 1\n",
    "    option.append(answer)\n",
    "    random.shuffle(option)\n",
    "    person = random.choice(names)\n",
    "    d[\"question\"] = temp6.format(person,number1,number2,person,number3)\n",
    "    d[\"option\"] = option\n",
    "    d[\"answer\"] = answer \n",
    "    Q_A.append(d)\n",
    "    j -= 1\n",
    "print(Q_A)\n",
    "\n"
   ]
  },
  {
   "cell_type": "code",
   "execution_count": 10,
   "metadata": {},
   "outputs": [
    {
     "name": "stdout",
     "output_type": "stream",
     "text": [
      "[{'question': 'Diya wants to put a picture in a frame.The frame is 1.6580295570175123 metres wide. What can be the width of the picture?', 'answer': 1.139997001150327, 'option': [2.2591086005247467, 2.1417453515142038, 2.849791878264784]}, {'question': 'Navya wants to put a picture in a frame.The frame is 1.3711220562753728 metres wide. What can be the width of the picture?', 'answer': 0.009147841291845428, 'option': [3.189697200233233, 1.9969790303685753, 2.198044644922855]}, {'question': 'Siya wants to put a picture in a frame.The frame is 0.8213579167431677 metres wide. What can be the width of the picture?', 'answer': 0.16485902420116286, 'option': [1.2663182927587848, 1.7672954563541956, 3.063663769058711]}, {'question': 'Dhruv wants to put a picture in a frame.The frame is 0.8776998862050938 metres wide. What can be the width of the picture?', 'answer': 0.2499577533837835, 'option': [1.648063727802648, 3.4172394357275007, 2.1148963466518533]}, {'question': 'The salary of Vihaan increased from 610 per month to 695 per month while the salary of Sai increased from 326 to 375 and of Ishaan increased from 770 to 823 per month. What is the greatest increase in salary among these three?', 'answer': 'Ishaan', 'option': ['Vihaan', 'Sai', 'Ishaan', 'none of the above']}, {'question': 'The salary of Atharva increased from 436 per month to 747 per month while the salary of Aayan increased from 754 to 858 and of Ananya increased from 605 to 736 per month. What is the greatest increase in salary among these three?', 'answer': 'Ananya', 'option': ['Atharva', 'Aayan', 'Ananya', 'none of the above']}, {'question': 'The salary of Kabir increased from 933 per month to 999 per month while the salary of Ritvik increased from 621 to 747 and of Myra increased from 368 to 746 per month. What is the greatest increase in salary among these three?', 'answer': 'Myra', 'option': ['Kabir', 'Ritvik', 'Myra', 'none of the above']}, {'question': 'The salary of Prisha increased from 570 per month to 620 per month while the salary of Prisha increased from 403 to 997 and of Kabir increased from 333 to 354 per month. What is the greatest increase in salary among these three?', 'answer': 'Kabir', 'option': ['Prisha', 'Prisha', 'Kabir', 'none of the above']}, {'question': ' Out of 3000000 million bacteria grown for an experiment, 1 in 780000000 million has a particular mutation. Approximately how many of the bacteria have the mutation?', 'option': [0.004, 568, 852, 668], 'answer': 0.004}, {'question': ' Out of 59000000000 billion bacteria grown for an experiment, 1 in 593000000 million has a particular mutation. Approximately how many of the bacteria have the mutation?', 'option': [99.494, 181, 687, 992], 'answer': 99.494}, {'question': ' Out of 13000000000 billion bacteria grown for an experiment, 1 in 357000000 million has a particular mutation. Approximately how many of the bacteria have the mutation?', 'option': [75, 923, 36.415, 511], 'answer': 36.415}, {'question': ' Out of 50000000000 billion bacteria grown for an experiment, 1 in 969000000 million has a particular mutation. Approximately how many of the bacteria have the mutation?', 'option': [104, 51.6, 979, 407], 'answer': 51.6}, {'question': 'A tank has a capacity of 85 pints. How many gallons of water would it take to fill the tank to 1/9 of its capacity?', 'option': [74, 70, 81, 9.44], 'answer': 9.44}, {'question': 'A tank has a capacity of 65 pints. How many gallons of water would it take to fill the tank to 2/6 of its capacity?', 'option': [21.67, 15, 18, 55], 'answer': 21.67}, {'question': 'A tank has a capacity of 67 gallons. How many gallons of water would it take to fill the tank to 3/10 of its capacity?', 'option': [57, 82, 49, 20.1], 'answer': 20.1}, {'question': 'A tank has a capacity of 90 gallons. How many gallons of water would it take to fill the tank to 5/7 of its capacity?', 'option': [22, 61, 30, 64.29], 'answer': 64.29}, {'question': 'How many 1-inch square tiles would it take to cover the floor of a closet that has dimensions 2 feet by 1 feet?', 'option': [7424, 288, 5376, 1673], 'answer': 288}, {'question': 'How many 1-inch square tiles would it take to cover the floor of a closet that has dimensions 1 feet by 1 feet?', 'option': [546, 7468, 144, 3219], 'answer': 144}, {'question': 'How many 1-inch square tiles would it take to cover the floor of a closet that has dimensions 2 feet by 1 feet?', 'option': [1732, 3715, 167, 288], 'answer': 288}, {'question': 'How many 1-inch square tiles would it take to cover the floor of a closet that has dimensions 9 feet by 1 feet?', 'option': [1296, 3492, 9882, 2279], 'answer': 1296}, {'question': 'Shanaya earns $7 for each ticket that he sells, and a bonus of $2 per ticket for each ticket he sells over 100. If Shanaya was paid $1857, how many tickets did he sell approximately?', 'option': [214, 336, 228, 487], 'answer': 228}, {'question': 'Arnav earns $16 for each ticket that he sells, and a bonus of $2 per ticket for each ticket he sells over 100. If Arnav was paid $4937, how many tickets did he sell approximately?', 'option': [465, 285, 372, 236], 'answer': 285}, {'question': 'Advik earns $20 for each ticket that he sells, and a bonus of $3 per ticket for each ticket he sells over 100. If Advik was paid $2394, how many tickets did he sell approximately?', 'option': [117, 491, 303, 400], 'answer': 117}, {'question': 'Aarav earns $15 for each ticket that he sells, and a bonus of $3 per ticket for each ticket he sells over 100. If Aarav was paid $3305, how many tickets did he sell approximately?', 'option': [318, 326, 200, 116], 'answer': 200}, {'question': 'Attendees at a charity dinner each gave at least $98 to the charity and a total of $8304 was collected. What is the maximum number of people who could have attended when the total amount collected was tripled?', 'option': [207, 445, 84, 813], 'answer': 84}, {'question': 'Attendees at a charity dinner each gave at least $70 to the charity and a total of $8222 was collected. What is the maximum number of people who could have attended when the total amount collected was doubled?', 'option': [760, 117, 452, 344], 'answer': 117}, {'question': 'Attendees at a charity dinner each gave at least $56 to the charity and a total of $4110 was collected. What is the maximum number of people who could have attended when the total amount collected was doubled?', 'option': [160, 537, 33, 73], 'answer': 73}, {'question': 'Attendees at a charity dinner each gave at least $92 to the charity and a total of $13161 was collected. What is the maximum number of people who could have attended when the total amount collected was tripled?', 'option': [143, 583, 915, 948], 'answer': 143}]\n"
     ]
    }
   ],
   "source": [
    "annotations = {\"doubled\":2,\"tripled\":3,\"quadrupled\":4}\n",
    "temp7 = \"Attendees at a charity dinner each gave at least ${} to the charity and a total of ${} was collected. What is the maximum number of people who could have attended when the total amount collected was {}?\"\n",
    "j = 4\n",
    "Q_A_7 = []\n",
    "while j > 0:\n",
    "    d = {}\n",
    "    option = []\n",
    "    number1 = random.randrange(20,100,2)\n",
    "    ann = random.choice(list(annotations.keys()))\n",
    "    number2 = random.randint(2000,5000)\n",
    "    number2 = number2 * annotations[ann]\n",
    "    answer = number2//number1\n",
    "\n",
    "    i = 3\n",
    "    while i > 0:\n",
    "        option.append(random.randint(20,1000))\n",
    "        i -= 1\n",
    "    option.append(answer)\n",
    "    random.shuffle(option)\n",
    "    d[\"question\"] = temp7.format(number1,number2,ann)\n",
    "    d[\"option\"] = option\n",
    "    d[\"answer\"] = answer \n",
    "    Q_A.append(d)\n",
    "    j -= 1\n",
    "print(Q_A)\n",
    "\n",
    "    \n",
    "    \n",
    "    \n"
   ]
  },
  {
   "cell_type": "code",
   "execution_count": 11,
   "metadata": {},
   "outputs": [
    {
     "name": "stdout",
     "output_type": "stream",
     "text": [
      "[{'question': 'Diya wants to put a picture in a frame.The frame is 1.6580295570175123 metres wide. What can be the width of the picture?', 'answer': 1.139997001150327, 'option': [2.2591086005247467, 2.1417453515142038, 2.849791878264784]}, {'question': 'Navya wants to put a picture in a frame.The frame is 1.3711220562753728 metres wide. What can be the width of the picture?', 'answer': 0.009147841291845428, 'option': [3.189697200233233, 1.9969790303685753, 2.198044644922855]}, {'question': 'Siya wants to put a picture in a frame.The frame is 0.8213579167431677 metres wide. What can be the width of the picture?', 'answer': 0.16485902420116286, 'option': [1.2663182927587848, 1.7672954563541956, 3.063663769058711]}, {'question': 'Dhruv wants to put a picture in a frame.The frame is 0.8776998862050938 metres wide. What can be the width of the picture?', 'answer': 0.2499577533837835, 'option': [1.648063727802648, 3.4172394357275007, 2.1148963466518533]}, {'question': 'The salary of Vihaan increased from 610 per month to 695 per month while the salary of Sai increased from 326 to 375 and of Ishaan increased from 770 to 823 per month. What is the greatest increase in salary among these three?', 'answer': 'Ishaan', 'option': ['Vihaan', 'Sai', 'Ishaan', 'none of the above']}, {'question': 'The salary of Atharva increased from 436 per month to 747 per month while the salary of Aayan increased from 754 to 858 and of Ananya increased from 605 to 736 per month. What is the greatest increase in salary among these three?', 'answer': 'Ananya', 'option': ['Atharva', 'Aayan', 'Ananya', 'none of the above']}, {'question': 'The salary of Kabir increased from 933 per month to 999 per month while the salary of Ritvik increased from 621 to 747 and of Myra increased from 368 to 746 per month. What is the greatest increase in salary among these three?', 'answer': 'Myra', 'option': ['Kabir', 'Ritvik', 'Myra', 'none of the above']}, {'question': 'The salary of Prisha increased from 570 per month to 620 per month while the salary of Prisha increased from 403 to 997 and of Kabir increased from 333 to 354 per month. What is the greatest increase in salary among these three?', 'answer': 'Kabir', 'option': ['Prisha', 'Prisha', 'Kabir', 'none of the above']}, {'question': ' Out of 3000000 million bacteria grown for an experiment, 1 in 780000000 million has a particular mutation. Approximately how many of the bacteria have the mutation?', 'option': [0.004, 568, 852, 668], 'answer': 0.004}, {'question': ' Out of 59000000000 billion bacteria grown for an experiment, 1 in 593000000 million has a particular mutation. Approximately how many of the bacteria have the mutation?', 'option': [99.494, 181, 687, 992], 'answer': 99.494}, {'question': ' Out of 13000000000 billion bacteria grown for an experiment, 1 in 357000000 million has a particular mutation. Approximately how many of the bacteria have the mutation?', 'option': [75, 923, 36.415, 511], 'answer': 36.415}, {'question': ' Out of 50000000000 billion bacteria grown for an experiment, 1 in 969000000 million has a particular mutation. Approximately how many of the bacteria have the mutation?', 'option': [104, 51.6, 979, 407], 'answer': 51.6}, {'question': 'A tank has a capacity of 85 pints. How many gallons of water would it take to fill the tank to 1/9 of its capacity?', 'option': [74, 70, 81, 9.44], 'answer': 9.44}, {'question': 'A tank has a capacity of 65 pints. How many gallons of water would it take to fill the tank to 2/6 of its capacity?', 'option': [21.67, 15, 18, 55], 'answer': 21.67}, {'question': 'A tank has a capacity of 67 gallons. How many gallons of water would it take to fill the tank to 3/10 of its capacity?', 'option': [57, 82, 49, 20.1], 'answer': 20.1}, {'question': 'A tank has a capacity of 90 gallons. How many gallons of water would it take to fill the tank to 5/7 of its capacity?', 'option': [22, 61, 30, 64.29], 'answer': 64.29}, {'question': 'How many 1-inch square tiles would it take to cover the floor of a closet that has dimensions 2 feet by 1 feet?', 'option': [7424, 288, 5376, 1673], 'answer': 288}, {'question': 'How many 1-inch square tiles would it take to cover the floor of a closet that has dimensions 1 feet by 1 feet?', 'option': [546, 7468, 144, 3219], 'answer': 144}, {'question': 'How many 1-inch square tiles would it take to cover the floor of a closet that has dimensions 2 feet by 1 feet?', 'option': [1732, 3715, 167, 288], 'answer': 288}, {'question': 'How many 1-inch square tiles would it take to cover the floor of a closet that has dimensions 9 feet by 1 feet?', 'option': [1296, 3492, 9882, 2279], 'answer': 1296}, {'question': 'Shanaya earns $7 for each ticket that he sells, and a bonus of $2 per ticket for each ticket he sells over 100. If Shanaya was paid $1857, how many tickets did he sell approximately?', 'option': [214, 336, 228, 487], 'answer': 228}, {'question': 'Arnav earns $16 for each ticket that he sells, and a bonus of $2 per ticket for each ticket he sells over 100. If Arnav was paid $4937, how many tickets did he sell approximately?', 'option': [465, 285, 372, 236], 'answer': 285}, {'question': 'Advik earns $20 for each ticket that he sells, and a bonus of $3 per ticket for each ticket he sells over 100. If Advik was paid $2394, how many tickets did he sell approximately?', 'option': [117, 491, 303, 400], 'answer': 117}, {'question': 'Aarav earns $15 for each ticket that he sells, and a bonus of $3 per ticket for each ticket he sells over 100. If Aarav was paid $3305, how many tickets did he sell approximately?', 'option': [318, 326, 200, 116], 'answer': 200}, {'question': 'Attendees at a charity dinner each gave at least $98 to the charity and a total of $8304 was collected. What is the maximum number of people who could have attended when the total amount collected was tripled?', 'option': [207, 445, 84, 813], 'answer': 84}, {'question': 'Attendees at a charity dinner each gave at least $70 to the charity and a total of $8222 was collected. What is the maximum number of people who could have attended when the total amount collected was doubled?', 'option': [760, 117, 452, 344], 'answer': 117}, {'question': 'Attendees at a charity dinner each gave at least $56 to the charity and a total of $4110 was collected. What is the maximum number of people who could have attended when the total amount collected was doubled?', 'option': [160, 537, 33, 73], 'answer': 73}, {'question': 'Attendees at a charity dinner each gave at least $92 to the charity and a total of $13161 was collected. What is the maximum number of people who could have attended when the total amount collected was tripled?', 'option': [143, 583, 915, 948], 'answer': 143}, {'question': 'What is your average speed in kph if you travel 45 miles in 7 hours and 10 minutes?', 'option': [9.250260769602269, 10.046511627906977, 7.851010359146695, 4.747057756734756], 'answer': 10.046511627906977}, {'question': 'What is your average speed in kph if you travel 77 miles in 4 hours and 19 minutes?', 'option': [9.70329172049674, 28.54054054054054, 8.731471285788414, 2.6797467834096054], 'answer': 28.54054054054054}, {'question': 'What is your average speed in kpm if you travel 73 miles in 5 hours and 47 minutes?', 'option': [5.165690754991842, 6.974667831413717, 0.33659942363112394, 9.970047515504024], 'answer': 0.33659942363112394}, {'question': 'What is your average speed in kpm if you travel 65 miles in 8 hours and 48 minutes?', 'option': [6.5427381509492495, 1.1230289514386498, 0.19696969696969696, 6.311135368122189], 'answer': 0.19696969696969696}, {'question': 'What is your average speed in mpm if you travel 89 miles in 5 hours and 54 minutes?', 'option': [5.269012528184183, 0.2514124293785311, 8.360373307577868, 3.331982704441924], 'answer': 0.2514124293785311}, {'question': 'What is your average speed in mph if you travel 43 miles in 8 hours and 32 minutes?', 'option': [2.9411606239006893, 7.9523343983800245, 6.963216312674847, 5.0390625], 'answer': 5.0390625}, {'question': 'What is your average speed in mph if you travel 43 miles in 8 hours and 39 minutes?', 'option': [4.971098265895954, 3.948294452767709, 3.5539633495459975, 8.571450769277337], 'answer': 4.971098265895954}, {'question': 'What is your average speed in mph if you travel 86 miles in 9 hours and 11 minutes?', 'option': [9.408935820753058, 9.165375427431567, 9.364791288566243, 2.7831902165423403], 'answer': 9.364791288566243}]\n"
     ]
    }
   ],
   "source": [
    "metric = [\"mph\",\"kph\",\"kpm\",\"mpm\"]\n",
    "temp8 = \"What is your average speed in {} if you travel {} miles in {} hours and {} minutes?\"\n",
    "j = 8\n",
    "Q_A_8 = []\n",
    "while j > 0:\n",
    "    d = {}\n",
    "    option = []\n",
    "    metric1 = random.choice(metric)\n",
    "    distance_mile = random.randint(15,100)\n",
    "    distance_km = distance_mile * 1.6\n",
    "    hr = random.randint(1,10)\n",
    "    m = random.randint(1,60)\n",
    "    hr1 = hr*60\n",
    "    time_in_min = hr1 + m\n",
    "    if metric1 == \"mpm\":\n",
    "        answer = distance_mile/time_in_min\n",
    "    elif metric1 == \"kpm\":\n",
    "        answer = distance_km/time_in_min\n",
    "    elif metric1 == \"mph\":\n",
    "        answer = (distance_mile/time_in_min)*60\n",
    "    else:answer = (distance_km/time_in_min)*60\n",
    "        \n",
    "    i = 3\n",
    "    while i > 0:\n",
    "        option.append(random.uniform(1,10))\n",
    "        i -= 1\n",
    "    option.append(answer)\n",
    "    random.shuffle(option)\n",
    "    d[\"question\"] = temp8.format(metric1,distance_mile,hr,m)\n",
    "    d[\"option\"] = option\n",
    "    d[\"answer\"] = answer \n",
    "    Q_A.append(d)\n",
    "    j -= 1\n",
    "print(Q_A)\n",
    "    \n",
    "\n"
   ]
  },
  {
   "cell_type": "code",
   "execution_count": 12,
   "metadata": {},
   "outputs": [],
   "source": [
    "def invert_int(n):\n",
    "    return 1//n"
   ]
  },
  {
   "cell_type": "code",
   "execution_count": 13,
   "metadata": {},
   "outputs": [
    {
     "name": "stdout",
     "output_type": "stream",
     "text": [
      "[{'question': 'Diya wants to put a picture in a frame.The frame is 1.6580295570175123 metres wide. What can be the width of the picture?', 'answer': 1.139997001150327, 'option': [2.2591086005247467, 2.1417453515142038, 2.849791878264784]}, {'question': 'Navya wants to put a picture in a frame.The frame is 1.3711220562753728 metres wide. What can be the width of the picture?', 'answer': 0.009147841291845428, 'option': [3.189697200233233, 1.9969790303685753, 2.198044644922855]}, {'question': 'Siya wants to put a picture in a frame.The frame is 0.8213579167431677 metres wide. What can be the width of the picture?', 'answer': 0.16485902420116286, 'option': [1.2663182927587848, 1.7672954563541956, 3.063663769058711]}, {'question': 'Dhruv wants to put a picture in a frame.The frame is 0.8776998862050938 metres wide. What can be the width of the picture?', 'answer': 0.2499577533837835, 'option': [1.648063727802648, 3.4172394357275007, 2.1148963466518533]}, {'question': 'The salary of Vihaan increased from 610 per month to 695 per month while the salary of Sai increased from 326 to 375 and of Ishaan increased from 770 to 823 per month. What is the greatest increase in salary among these three?', 'answer': 'Ishaan', 'option': ['Vihaan', 'Sai', 'Ishaan', 'none of the above']}, {'question': 'The salary of Atharva increased from 436 per month to 747 per month while the salary of Aayan increased from 754 to 858 and of Ananya increased from 605 to 736 per month. What is the greatest increase in salary among these three?', 'answer': 'Ananya', 'option': ['Atharva', 'Aayan', 'Ananya', 'none of the above']}, {'question': 'The salary of Kabir increased from 933 per month to 999 per month while the salary of Ritvik increased from 621 to 747 and of Myra increased from 368 to 746 per month. What is the greatest increase in salary among these three?', 'answer': 'Myra', 'option': ['Kabir', 'Ritvik', 'Myra', 'none of the above']}, {'question': 'The salary of Prisha increased from 570 per month to 620 per month while the salary of Prisha increased from 403 to 997 and of Kabir increased from 333 to 354 per month. What is the greatest increase in salary among these three?', 'answer': 'Kabir', 'option': ['Prisha', 'Prisha', 'Kabir', 'none of the above']}, {'question': ' Out of 3000000 million bacteria grown for an experiment, 1 in 780000000 million has a particular mutation. Approximately how many of the bacteria have the mutation?', 'option': [0.004, 568, 852, 668], 'answer': 0.004}, {'question': ' Out of 59000000000 billion bacteria grown for an experiment, 1 in 593000000 million has a particular mutation. Approximately how many of the bacteria have the mutation?', 'option': [99.494, 181, 687, 992], 'answer': 99.494}, {'question': ' Out of 13000000000 billion bacteria grown for an experiment, 1 in 357000000 million has a particular mutation. Approximately how many of the bacteria have the mutation?', 'option': [75, 923, 36.415, 511], 'answer': 36.415}, {'question': ' Out of 50000000000 billion bacteria grown for an experiment, 1 in 969000000 million has a particular mutation. Approximately how many of the bacteria have the mutation?', 'option': [104, 51.6, 979, 407], 'answer': 51.6}, {'question': 'A tank has a capacity of 85 pints. How many gallons of water would it take to fill the tank to 1/9 of its capacity?', 'option': [74, 70, 81, 9.44], 'answer': 9.44}, {'question': 'A tank has a capacity of 65 pints. How many gallons of water would it take to fill the tank to 2/6 of its capacity?', 'option': [21.67, 15, 18, 55], 'answer': 21.67}, {'question': 'A tank has a capacity of 67 gallons. How many gallons of water would it take to fill the tank to 3/10 of its capacity?', 'option': [57, 82, 49, 20.1], 'answer': 20.1}, {'question': 'A tank has a capacity of 90 gallons. How many gallons of water would it take to fill the tank to 5/7 of its capacity?', 'option': [22, 61, 30, 64.29], 'answer': 64.29}, {'question': 'How many 1-inch square tiles would it take to cover the floor of a closet that has dimensions 2 feet by 1 feet?', 'option': [7424, 288, 5376, 1673], 'answer': 288}, {'question': 'How many 1-inch square tiles would it take to cover the floor of a closet that has dimensions 1 feet by 1 feet?', 'option': [546, 7468, 144, 3219], 'answer': 144}, {'question': 'How many 1-inch square tiles would it take to cover the floor of a closet that has dimensions 2 feet by 1 feet?', 'option': [1732, 3715, 167, 288], 'answer': 288}, {'question': 'How many 1-inch square tiles would it take to cover the floor of a closet that has dimensions 9 feet by 1 feet?', 'option': [1296, 3492, 9882, 2279], 'answer': 1296}, {'question': 'Shanaya earns $7 for each ticket that he sells, and a bonus of $2 per ticket for each ticket he sells over 100. If Shanaya was paid $1857, how many tickets did he sell approximately?', 'option': [214, 336, 228, 487], 'answer': 228}, {'question': 'Arnav earns $16 for each ticket that he sells, and a bonus of $2 per ticket for each ticket he sells over 100. If Arnav was paid $4937, how many tickets did he sell approximately?', 'option': [465, 285, 372, 236], 'answer': 285}, {'question': 'Advik earns $20 for each ticket that he sells, and a bonus of $3 per ticket for each ticket he sells over 100. If Advik was paid $2394, how many tickets did he sell approximately?', 'option': [117, 491, 303, 400], 'answer': 117}, {'question': 'Aarav earns $15 for each ticket that he sells, and a bonus of $3 per ticket for each ticket he sells over 100. If Aarav was paid $3305, how many tickets did he sell approximately?', 'option': [318, 326, 200, 116], 'answer': 200}, {'question': 'Attendees at a charity dinner each gave at least $98 to the charity and a total of $8304 was collected. What is the maximum number of people who could have attended when the total amount collected was tripled?', 'option': [207, 445, 84, 813], 'answer': 84}, {'question': 'Attendees at a charity dinner each gave at least $70 to the charity and a total of $8222 was collected. What is the maximum number of people who could have attended when the total amount collected was doubled?', 'option': [760, 117, 452, 344], 'answer': 117}, {'question': 'Attendees at a charity dinner each gave at least $56 to the charity and a total of $4110 was collected. What is the maximum number of people who could have attended when the total amount collected was doubled?', 'option': [160, 537, 33, 73], 'answer': 73}, {'question': 'Attendees at a charity dinner each gave at least $92 to the charity and a total of $13161 was collected. What is the maximum number of people who could have attended when the total amount collected was tripled?', 'option': [143, 583, 915, 948], 'answer': 143}, {'question': 'What is your average speed in kph if you travel 45 miles in 7 hours and 10 minutes?', 'option': [9.250260769602269, 10.046511627906977, 7.851010359146695, 4.747057756734756], 'answer': 10.046511627906977}, {'question': 'What is your average speed in kph if you travel 77 miles in 4 hours and 19 minutes?', 'option': [9.70329172049674, 28.54054054054054, 8.731471285788414, 2.6797467834096054], 'answer': 28.54054054054054}, {'question': 'What is your average speed in kpm if you travel 73 miles in 5 hours and 47 minutes?', 'option': [5.165690754991842, 6.974667831413717, 0.33659942363112394, 9.970047515504024], 'answer': 0.33659942363112394}, {'question': 'What is your average speed in kpm if you travel 65 miles in 8 hours and 48 minutes?', 'option': [6.5427381509492495, 1.1230289514386498, 0.19696969696969696, 6.311135368122189], 'answer': 0.19696969696969696}, {'question': 'What is your average speed in mpm if you travel 89 miles in 5 hours and 54 minutes?', 'option': [5.269012528184183, 0.2514124293785311, 8.360373307577868, 3.331982704441924], 'answer': 0.2514124293785311}, {'question': 'What is your average speed in mph if you travel 43 miles in 8 hours and 32 minutes?', 'option': [2.9411606239006893, 7.9523343983800245, 6.963216312674847, 5.0390625], 'answer': 5.0390625}, {'question': 'What is your average speed in mph if you travel 43 miles in 8 hours and 39 minutes?', 'option': [4.971098265895954, 3.948294452767709, 3.5539633495459975, 8.571450769277337], 'answer': 4.971098265895954}, {'question': 'What is your average speed in mph if you travel 86 miles in 9 hours and 11 minutes?', 'option': [9.408935820753058, 9.165375427431567, 9.364791288566243, 2.7831902165423403], 'answer': 9.364791288566243}, {'question': 'If a taxi charges $9 for the first mile, and $1.00 for each additional quarter mile, how much does the taxi charge for a 28.9 mile ride?', 'option': [459, 302, 120.6, 256], 'answer': 120.6}, {'question': 'If a taxi charges $2 for the first mile, and $1.00 for each additional one-sixth mile, how much does the taxi charge for a 36.9 mile ride?', 'option': [300, 301, 319, 217.4], 'answer': 217.4}, {'question': 'If a taxi charges $8 for the first mile, and $1.00 for each additional one-tenth mile, how much does the taxi charge for a 37.3 mile ride?', 'option': [427, 334.7, 347, 441], 'answer': 334.7}, {'question': 'If a taxi charges $7 for the first mile, and $1.00 for each additional quarter mile, how much does the taxi charge for a 7.9 mile ride?', 'option': [154, 468, 75, 34.6], 'answer': 34.6}]\n"
     ]
    }
   ],
   "source": [
    "distance = {\"quarter\":1/4,\"half\":1/2,\"one-third\":1/3,\"one-fifth\":1/5,\"one-sixth\":1/6,\"one-seventh\":1/7,\"one-tenth\":1/10}\n",
    "temp9 = \"If a taxi charges ${} for the first mile, and $1.00 for each additional {} mile, how much does the taxi charge for a {} mile ride?\"\n",
    "j = 4\n",
    "Q_A_9 = []\n",
    "while j > 0:\n",
    "    d = {}\n",
    "    option = []\n",
    "    mile = random.uniform(4,50)\n",
    "    mile = round(mile,1)\n",
    "    number1 = random.randint(2,10)\n",
    "    distance1 = random.choice(list(distance.keys()))\n",
    "    number2 = distance[distance1]\n",
    "    number2 = invert_int(number2)\n",
    "    answer = number1 + (mile-1)*number2\n",
    "    answer = round(answer,1)\n",
    "    i = 3\n",
    "    while i > 0:\n",
    "        option.append(random.randint(int(answer),500))\n",
    "        i -= 1\n",
    "    option.append(answer)\n",
    "    random.shuffle(option)\n",
    "    d[\"question\"] = temp9.format(number1,distance1,mile)\n",
    "    d[\"option\"] = option\n",
    "    d[\"answer\"] = answer \n",
    "    Q_A.append(d)\n",
    "    j -= 1\n",
    "print(Q_A)"
   ]
  },
  {
   "cell_type": "code",
   "execution_count": 14,
   "metadata": {},
   "outputs": [
    {
     "name": "stdout",
     "output_type": "stream",
     "text": [
      "[{'question': 'Diya wants to put a picture in a frame.The frame is 1.6580295570175123 metres wide. What can be the width of the picture?', 'answer': 1.139997001150327, 'option': [2.2591086005247467, 2.1417453515142038, 2.849791878264784]}, {'question': 'Navya wants to put a picture in a frame.The frame is 1.3711220562753728 metres wide. What can be the width of the picture?', 'answer': 0.009147841291845428, 'option': [3.189697200233233, 1.9969790303685753, 2.198044644922855]}, {'question': 'Siya wants to put a picture in a frame.The frame is 0.8213579167431677 metres wide. What can be the width of the picture?', 'answer': 0.16485902420116286, 'option': [1.2663182927587848, 1.7672954563541956, 3.063663769058711]}, {'question': 'Dhruv wants to put a picture in a frame.The frame is 0.8776998862050938 metres wide. What can be the width of the picture?', 'answer': 0.2499577533837835, 'option': [1.648063727802648, 3.4172394357275007, 2.1148963466518533]}, {'question': 'The salary of Vihaan increased from 610 per month to 695 per month while the salary of Sai increased from 326 to 375 and of Ishaan increased from 770 to 823 per month. What is the greatest increase in salary among these three?', 'answer': 'Ishaan', 'option': ['Vihaan', 'Sai', 'Ishaan', 'none of the above']}, {'question': 'The salary of Atharva increased from 436 per month to 747 per month while the salary of Aayan increased from 754 to 858 and of Ananya increased from 605 to 736 per month. What is the greatest increase in salary among these three?', 'answer': 'Ananya', 'option': ['Atharva', 'Aayan', 'Ananya', 'none of the above']}, {'question': 'The salary of Kabir increased from 933 per month to 999 per month while the salary of Ritvik increased from 621 to 747 and of Myra increased from 368 to 746 per month. What is the greatest increase in salary among these three?', 'answer': 'Myra', 'option': ['Kabir', 'Ritvik', 'Myra', 'none of the above']}, {'question': 'The salary of Prisha increased from 570 per month to 620 per month while the salary of Prisha increased from 403 to 997 and of Kabir increased from 333 to 354 per month. What is the greatest increase in salary among these three?', 'answer': 'Kabir', 'option': ['Prisha', 'Prisha', 'Kabir', 'none of the above']}, {'question': ' Out of 3000000 million bacteria grown for an experiment, 1 in 780000000 million has a particular mutation. Approximately how many of the bacteria have the mutation?', 'option': [0.004, 568, 852, 668], 'answer': 0.004}, {'question': ' Out of 59000000000 billion bacteria grown for an experiment, 1 in 593000000 million has a particular mutation. Approximately how many of the bacteria have the mutation?', 'option': [99.494, 181, 687, 992], 'answer': 99.494}, {'question': ' Out of 13000000000 billion bacteria grown for an experiment, 1 in 357000000 million has a particular mutation. Approximately how many of the bacteria have the mutation?', 'option': [75, 923, 36.415, 511], 'answer': 36.415}, {'question': ' Out of 50000000000 billion bacteria grown for an experiment, 1 in 969000000 million has a particular mutation. Approximately how many of the bacteria have the mutation?', 'option': [104, 51.6, 979, 407], 'answer': 51.6}, {'question': 'A tank has a capacity of 85 pints. How many gallons of water would it take to fill the tank to 1/9 of its capacity?', 'option': [74, 70, 81, 9.44], 'answer': 9.44}, {'question': 'A tank has a capacity of 65 pints. How many gallons of water would it take to fill the tank to 2/6 of its capacity?', 'option': [21.67, 15, 18, 55], 'answer': 21.67}, {'question': 'A tank has a capacity of 67 gallons. How many gallons of water would it take to fill the tank to 3/10 of its capacity?', 'option': [57, 82, 49, 20.1], 'answer': 20.1}, {'question': 'A tank has a capacity of 90 gallons. How many gallons of water would it take to fill the tank to 5/7 of its capacity?', 'option': [22, 61, 30, 64.29], 'answer': 64.29}, {'question': 'How many 1-inch square tiles would it take to cover the floor of a closet that has dimensions 2 feet by 1 feet?', 'option': [7424, 288, 5376, 1673], 'answer': 288}, {'question': 'How many 1-inch square tiles would it take to cover the floor of a closet that has dimensions 1 feet by 1 feet?', 'option': [546, 7468, 144, 3219], 'answer': 144}, {'question': 'How many 1-inch square tiles would it take to cover the floor of a closet that has dimensions 2 feet by 1 feet?', 'option': [1732, 3715, 167, 288], 'answer': 288}, {'question': 'How many 1-inch square tiles would it take to cover the floor of a closet that has dimensions 9 feet by 1 feet?', 'option': [1296, 3492, 9882, 2279], 'answer': 1296}, {'question': 'Shanaya earns $7 for each ticket that he sells, and a bonus of $2 per ticket for each ticket he sells over 100. If Shanaya was paid $1857, how many tickets did he sell approximately?', 'option': [214, 336, 228, 487], 'answer': 228}, {'question': 'Arnav earns $16 for each ticket that he sells, and a bonus of $2 per ticket for each ticket he sells over 100. If Arnav was paid $4937, how many tickets did he sell approximately?', 'option': [465, 285, 372, 236], 'answer': 285}, {'question': 'Advik earns $20 for each ticket that he sells, and a bonus of $3 per ticket for each ticket he sells over 100. If Advik was paid $2394, how many tickets did he sell approximately?', 'option': [117, 491, 303, 400], 'answer': 117}, {'question': 'Aarav earns $15 for each ticket that he sells, and a bonus of $3 per ticket for each ticket he sells over 100. If Aarav was paid $3305, how many tickets did he sell approximately?', 'option': [318, 326, 200, 116], 'answer': 200}, {'question': 'Attendees at a charity dinner each gave at least $98 to the charity and a total of $8304 was collected. What is the maximum number of people who could have attended when the total amount collected was tripled?', 'option': [207, 445, 84, 813], 'answer': 84}, {'question': 'Attendees at a charity dinner each gave at least $70 to the charity and a total of $8222 was collected. What is the maximum number of people who could have attended when the total amount collected was doubled?', 'option': [760, 117, 452, 344], 'answer': 117}, {'question': 'Attendees at a charity dinner each gave at least $56 to the charity and a total of $4110 was collected. What is the maximum number of people who could have attended when the total amount collected was doubled?', 'option': [160, 537, 33, 73], 'answer': 73}, {'question': 'Attendees at a charity dinner each gave at least $92 to the charity and a total of $13161 was collected. What is the maximum number of people who could have attended when the total amount collected was tripled?', 'option': [143, 583, 915, 948], 'answer': 143}, {'question': 'What is your average speed in kph if you travel 45 miles in 7 hours and 10 minutes?', 'option': [9.250260769602269, 10.046511627906977, 7.851010359146695, 4.747057756734756], 'answer': 10.046511627906977}, {'question': 'What is your average speed in kph if you travel 77 miles in 4 hours and 19 minutes?', 'option': [9.70329172049674, 28.54054054054054, 8.731471285788414, 2.6797467834096054], 'answer': 28.54054054054054}, {'question': 'What is your average speed in kpm if you travel 73 miles in 5 hours and 47 minutes?', 'option': [5.165690754991842, 6.974667831413717, 0.33659942363112394, 9.970047515504024], 'answer': 0.33659942363112394}, {'question': 'What is your average speed in kpm if you travel 65 miles in 8 hours and 48 minutes?', 'option': [6.5427381509492495, 1.1230289514386498, 0.19696969696969696, 6.311135368122189], 'answer': 0.19696969696969696}, {'question': 'What is your average speed in mpm if you travel 89 miles in 5 hours and 54 minutes?', 'option': [5.269012528184183, 0.2514124293785311, 8.360373307577868, 3.331982704441924], 'answer': 0.2514124293785311}, {'question': 'What is your average speed in mph if you travel 43 miles in 8 hours and 32 minutes?', 'option': [2.9411606239006893, 7.9523343983800245, 6.963216312674847, 5.0390625], 'answer': 5.0390625}, {'question': 'What is your average speed in mph if you travel 43 miles in 8 hours and 39 minutes?', 'option': [4.971098265895954, 3.948294452767709, 3.5539633495459975, 8.571450769277337], 'answer': 4.971098265895954}, {'question': 'What is your average speed in mph if you travel 86 miles in 9 hours and 11 minutes?', 'option': [9.408935820753058, 9.165375427431567, 9.364791288566243, 2.7831902165423403], 'answer': 9.364791288566243}, {'question': 'If a taxi charges $9 for the first mile, and $1.00 for each additional quarter mile, how much does the taxi charge for a 28.9 mile ride?', 'option': [459, 302, 120.6, 256], 'answer': 120.6}, {'question': 'If a taxi charges $2 for the first mile, and $1.00 for each additional one-sixth mile, how much does the taxi charge for a 36.9 mile ride?', 'option': [300, 301, 319, 217.4], 'answer': 217.4}, {'question': 'If a taxi charges $8 for the first mile, and $1.00 for each additional one-tenth mile, how much does the taxi charge for a 37.3 mile ride?', 'option': [427, 334.7, 347, 441], 'answer': 334.7}, {'question': 'If a taxi charges $7 for the first mile, and $1.00 for each additional quarter mile, how much does the taxi charge for a 7.9 mile ride?', 'option': [154, 468, 75, 34.6], 'answer': 34.6}, {'question': 'Alexander was a great fighter and held a larger empire than any king born before or after him. He started learning new skills when he was 11 years old in the year 1617. When was alexander born?', 'option': [1651, 1611, 1606, 1898], 'answer': 1606}, {'question': 'Alexander was a great fighter and held a larger empire than any king born before or after him. He started learning new skills when he was 8 years old in the year 1297. When was alexander born?', 'option': [1785, 1764, 1605, 1289], 'answer': 1289}, {'question': 'Alexander was a great fighter and held a larger empire than any king born before or after him. He started learning new skills when he was 16 years old in the year 1393. When was alexander born?', 'option': [1779, 1891, 1455, 1377], 'answer': 1377}]\n"
     ]
    }
   ],
   "source": [
    "temp10 = \"Alexander was a great fighter and held a larger empire than any king born before or after him. He started learning new skills when he was {} years old in the year {}. When was alexander born?\"\n",
    "j = 3\n",
    "Q_A_10 = []\n",
    "while j > 0:\n",
    "    d = {}\n",
    "    option = []\n",
    "    age = random.randint(5,20)\n",
    "    year = random.randint(1100,1900)\n",
    "    answer = year - age\n",
    "    i = 3\n",
    "    while i > 0:\n",
    "        option.append(random.randint(int(answer),1900))\n",
    "        i -= 1\n",
    "    option.append(answer)\n",
    "    random.shuffle(option)\n",
    "    d[\"question\"] = temp10.format(age,year)\n",
    "    d[\"option\"] = option\n",
    "    d[\"answer\"] = answer \n",
    "    Q_A.append(d)\n",
    "    j -= 1\n",
    "print(Q_A)\n",
    "    "
   ]
  },
  {
   "cell_type": "code",
   "execution_count": null,
   "metadata": {},
   "outputs": [],
   "source": []
  },
  {
   "cell_type": "code",
   "execution_count": 15,
   "metadata": {},
   "outputs": [],
   "source": [
    "import json\n",
    "with open('data.json','w',encoding = 'utf-8') as f:\n",
    "    json.dump(Q_A,f,ensure_ascii=False,indent=4)"
   ]
  }
 ],
 "metadata": {
  "kernelspec": {
   "display_name": "Python 3",
   "language": "python",
   "name": "python3"
  },
  "language_info": {
   "codemirror_mode": {
    "name": "ipython",
    "version": 3
   },
   "file_extension": ".py",
   "mimetype": "text/x-python",
   "name": "python",
   "nbconvert_exporter": "python",
   "pygments_lexer": "ipython3",
   "version": "3.8.5"
  }
 },
 "nbformat": 4,
 "nbformat_minor": 4
}
