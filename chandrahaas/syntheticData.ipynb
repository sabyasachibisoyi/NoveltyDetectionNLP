{
 "cells": [
  {
   "cell_type": "code",
   "execution_count": 1,
   "metadata": {},
   "outputs": [],
   "source": [
    "names = [\"Saanvi\",\"Anya\",\"Aadhya\",\"Aaradhya\",\"Ananya\",\"Pari\",\"Anika\",\"Navya\",\"Angel\",\"Diya\",\"Myra\",\"Sara\",\"Iraa\",\"Ahana\",\"Anvi\",\"Prisha\",\"Riya\",\"Aarohi\",\"Anaya\",\"Akshara\",\"Eva\",\"Shanaya\",\"Kyra\",\"Siya\",\"Aarav\",\"Vihaan\",\"Vivaan\",\"Ananya\",\"Diya\",\"Advik\",\"Kabir\",\"Anaya\",\"Aarav\",\"Vivaan\",\"Aditya\",\"Vivaan\",\"Vihaan\",\"Arjun\",\"Vivaan\",\"Reyansh\",\"Mohammed\",\"Sai\",\"Arnav\",\"Aayan\",\"Krishna\",\"Ishaan\",\"Shaurya\",\"Atharva\",\"Advik\",\"Pranav\",\"Advaith\",\"Aaryan\",\"Dhruv\",\"Kabir\",\"Ritvik\",\"Aarush\",\"Kian\",\"Darsh\",\"Veer\"]"
   ]
  },
  {
   "cell_type": "code",
   "execution_count": 2,
   "metadata": {},
   "outputs": [],
   "source": [
    "import random\n",
    "option = []\n",
    "Q_A = []"
   ]
  },
  {
   "cell_type": "code",
   "execution_count": 3,
   "metadata": {},
   "outputs": [
    {
     "name": "stdout",
     "output_type": "stream",
     "text": [
      "[{'question': 'Ritvik wants to put a picture in a frame.The frame is 1.8323162563901139 metres wide. What can be the width of the picture?', 'answer': 0.7898019792018861, 'option': [2.5502259558464564, 1.9303735123068348, 3.366098821800836]}, {'question': 'Kian wants to put a picture in a frame.The frame is 1.9377362792983872 metres wide. What can be the width of the picture?', 'answer': 1.6649003509099285, 'option': [3.1629397885436106, 2.369825142378841, 3.9406692503072267]}, {'question': 'Advik wants to put a picture in a frame.The frame is 0.971286092569861 metres wide. What can be the width of the picture?', 'answer': 0.4047397722685943, 'option': [3.7973539648283436, 3.1835732821380693, 1.0165106460132962]}, {'question': 'Kyra wants to put a picture in a frame.The frame is 0.6757674735999137 metres wide. What can be the width of the picture?', 'answer': 0.06910087918861958, 'option': [0.983084486778355, 3.5585313360826616, 2.83332175409433]}]\n"
     ]
    }
   ],
   "source": [
    "temp = \"{} wants to put a picture in a frame.The frame is {} metres wide. What can be the width of the picture?\"\n",
    "j = 4\n",
    "while j > 0:\n",
    "    d = {}\n",
    "    option = []\n",
    "    number = random.uniform(0,2)\n",
    "    number_cm = number * 100\n",
    "    answer = random.uniform(0,number)\n",
    "    i = 3\n",
    "    while i > 0:\n",
    "        option.append(random.uniform(number,4))\n",
    "        i -= 1\n",
    "    d[\"question\"] = temp.format(random.sample(names,1)[0],number)\n",
    "    d[\"answer\"] = answer\n",
    "    d[\"option\"] = option\n",
    "    Q_A.append(d)\n",
    "    j -= 1 \n",
    "print(Q_A)\n"
   ]
  },
  {
   "cell_type": "code",
   "execution_count": 4,
   "metadata": {},
   "outputs": [
    {
     "name": "stdout",
     "output_type": "stream",
     "text": [
      "[{'question': 'The salary of Darsh increased from 781 per month to 910 per month while the salary of Anvi increased from 842 to 887 and of Ishaan increased from 888 to 894 per month. What is the greatest increase in salary among these three?', 'answer': 'Ishaan', 'option': ['Darsh', 'Anvi', 'Ishaan', 'none of the above']}, {'question': 'The salary of Vihaan increased from 736 per month to 885 per month while the salary of Kian increased from 408 to 470 and of Dhruv increased from 983 to 996 per month. What is the greatest increase in salary among these three?', 'answer': 'Dhruv', 'option': ['Vihaan', 'Kian', 'Dhruv', 'none of the above']}, {'question': 'The salary of Kyra increased from 572 per month to 903 per month while the salary of Anika increased from 993 to 1000 and of Ritvik increased from 715 to 848 per month. What is the greatest increase in salary among these three?', 'answer': 'Ritvik', 'option': ['Kyra', 'Anika', 'Ritvik', 'none of the above']}, {'question': 'The salary of Mohammed increased from 379 per month to 667 per month while the salary of Aadhya increased from 745 to 936 and of Navya increased from 857 to 868 per month. What is the greatest increase in salary among these three?', 'answer': 'Navya', 'option': ['Mohammed', 'Aadhya', 'Navya', 'none of the above']}]\n"
     ]
    }
   ],
   "source": [
    "diff = []\n",
    "Q_A_2 = []\n",
    "temp1 = \"The salary of {} increased from {} per month to {} per month while the salary of {} increased from {} to {} and of {} increased from {} to {} per month. What is the greatest increase in salary among these three?\"\n",
    "j = 4\n",
    "while j > 0:\n",
    "    d = {}\n",
    "    option = []\n",
    "    person = []\n",
    "    number1 = random.randint(300,1000)\n",
    "    increase1 = random.randint(number1,1000)\n",
    "    person.append(random.choice(names))\n",
    "    diff1  = abs(number1 - increase1)\n",
    "    diff.append(diff1)\n",
    "\n",
    "    number2 = random.randint(300,1000)\n",
    "    increase2 = random.randint(number2,1000)\n",
    "    person.append(random.choice(list(set(names)-set(person[0]))))\n",
    "    diff2  = abs(number2 - increase2)\n",
    "    diff.append(diff2)\n",
    "\n",
    "    number3 = random.randint(300,1000)\n",
    "    increase3 = random.randint(number3,1000)\n",
    "    person.append(random.choice(list(set(names)-set(person[0])-set(person[1]))))\n",
    "    diff3  = abs(number3 - increase3)\n",
    "    diff.append(diff3)\n",
    "    n = 0\n",
    "    for i in range(3):\n",
    "        if diff[i] >n:\n",
    "            answer = person[i]\n",
    "        option.append(person[i])\n",
    "    option.append(\"none of the above\")\n",
    "    d[\"question\"] = temp1.format(person[0],number1, increase1,person[1],number2, increase2,person[2],number3, increase3)\n",
    "    d[\"answer\"] = answer\n",
    "    d[\"option\"] = option\n",
    "    Q_A_2.append(d)\n",
    "    j -= 1\n",
    "print(Q_A_2)\n"
   ]
  },
  {
   "cell_type": "code",
   "execution_count": 5,
   "metadata": {},
   "outputs": [
    {
     "name": "stdout",
     "output_type": "stream",
     "text": [
      "[{'question': ' Out of 50000000 million bacteria grown for an experiment, 1 in 886000 thousand has a particular mutation. Approximately how many of the bacteria have the mutation?', 'option': [945, 632, 909, 56.433], 'answer': 56.433}, {'question': ' Out of 26000000 million bacteria grown for an experiment, 1 in 251000 thousand has a particular mutation. Approximately how many of the bacteria have the mutation?', 'option': [345, 236, 103.586, 774], 'answer': 103.586}, {'question': ' Out of 43000000 million bacteria grown for an experiment, 1 in 632000000 million has a particular mutation. Approximately how many of the bacteria have the mutation?', 'option': [966, 74, 325, 0.068], 'answer': 0.068}, {'question': ' Out of 10000000 million bacteria grown for an experiment, 1 in 307000 thousand has a particular mutation. Approximately how many of the bacteria have the mutation?', 'option': [55, 32.573, 298, 465], 'answer': 32.573}]\n"
     ]
    }
   ],
   "source": [
    "count = {\"billion\":1000000000,\"million\":1000000,\"thousand\":1000}\n",
    "du = [\"billion\",'million']\n",
    "dup = [\"million\",\"thousand\"]\n",
    "Q_A_3 = []\n",
    "temp2 = \" Out of {} {} bacteria grown for an experiment, 1 in {} {} has a particular mutation. Approximately how many of the bacteria have the mutation?\"\n",
    "j = 4\n",
    "while j > 0:\n",
    "    d = {}\n",
    "    option = []\n",
    "    number1 = random.randint(1,100)\n",
    "    number2 = random.randint(1,999)\n",
    "    count1 = random.choice(du)\n",
    "    count2 = random.choice(dup)\n",
    "    number1 = number1 * count[count1]\n",
    "    number2 = number2 * count[count2]\n",
    "    answer = round(number1/ number2,3)\n",
    "    i = 3\n",
    "    while i > 0:\n",
    "        option.append(random.randint(1,1000))\n",
    "        i -= 1\n",
    "    option.append(answer)\n",
    "    random.shuffle(option)\n",
    "    d[\"question\"] = temp2.format(number1,count1,number2,count2)\n",
    "    d[\"option\"] = option\n",
    "    d[\"answer\"] = answer\n",
    "    Q_A_3.append(d)\n",
    "    j -= 1\n",
    "print(Q_A_3)\n"
   ]
  },
  {
   "cell_type": "code",
   "execution_count": 6,
   "metadata": {},
   "outputs": [],
   "source": [
    "#     d[\"question\"]\n",
    "#     d[\"option\"]\n",
    "#     d[\"answer\"]\n",
    "\n",
    "# Q_A_4 = []\n",
    "# j = 4\n",
    "# while j > 0:\n",
    "    # d= {}\n",
    "    # option = []\n",
    "#     j-=1"
   ]
  },
  {
   "cell_type": "code",
   "execution_count": 7,
   "metadata": {},
   "outputs": [
    {
     "name": "stdout",
     "output_type": "stream",
     "text": [
      "[{'question': ' Out of 50000000 million bacteria grown for an experiment, 1 in 886000 thousand has a particular mutation. Approximately how many of the bacteria have the mutation?', 'option': [945, 632, 909, 56.433], 'answer': 56.433}, {'question': ' Out of 26000000 million bacteria grown for an experiment, 1 in 251000 thousand has a particular mutation. Approximately how many of the bacteria have the mutation?', 'option': [345, 236, 103.586, 774], 'answer': 103.586}, {'question': ' Out of 43000000 million bacteria grown for an experiment, 1 in 632000000 million has a particular mutation. Approximately how many of the bacteria have the mutation?', 'option': [966, 74, 325, 0.068], 'answer': 0.068}, {'question': ' Out of 10000000 million bacteria grown for an experiment, 1 in 307000 thousand has a particular mutation. Approximately how many of the bacteria have the mutation?', 'option': [55, 32.573, 298, 465], 'answer': 32.573}, {'question': 'A tank has a capacity of 33 pints. How many gallons of water would it take to fill the tank to 3/9 of its capacity?', 'option': [11.0, 18, 65, 77], 'answer': 11.0}, {'question': 'A tank has a capacity of 67 gallons. How many gallons of water would it take to fill the tank to 4/8 of its capacity?', 'option': [15, 69, 92, 33.5], 'answer': 33.5}, {'question': 'A tank has a capacity of 113 pints. How many gallons of water would it take to fill the tank to 2/7 of its capacity?', 'option': [72, 74, 32.29, 76], 'answer': 32.29}, {'question': 'A tank has a capacity of 84 gallons. How many gallons of water would it take to fill the tank to 4/10 of its capacity?', 'option': [48, 83, 33.6, 59], 'answer': 33.6}]\n"
     ]
    }
   ],
   "source": [
    "measure = [\"pints\",\"gallons\"]\n",
    "\n",
    "temp3 = \"A tank has a capacity of {} {}. How many gallons of water would it take to fill the tank to {}/{} of its capacity?\"\n",
    "j = 4\n",
    "Q_A_4 = []\n",
    "while j > 0:\n",
    "    d = {}\n",
    "    option = []\n",
    "    measure1 = random.choice(measure)\n",
    "    if measure1 == \"pints\":\n",
    "        number = random.randint(200,1000)\n",
    "        number = number//8\n",
    "    else:\n",
    "        number = random.randint(30,100)\n",
    "    number2 = random.randint(1,5)\n",
    "    number3 = random.randint(6,10)\n",
    "    answer = round((number2/number3)*number,2)\n",
    "    i = 3\n",
    "    while i > 0:\n",
    "        option.append(random.randint(10,100))\n",
    "        i -= 1\n",
    "    option.append(answer)\n",
    "    random.shuffle(option)\n",
    "    d[\"question\"] = temp3.format(number,measure1,number2,number3)\n",
    "    d[\"option\"] = option\n",
    "    d[\"answer\"] = answer\n",
    "    j-=1\n",
    "    Q_A_3.append(d)\n",
    "print(Q_A_3)"
   ]
  },
  {
   "cell_type": "code",
   "execution_count": 8,
   "metadata": {},
   "outputs": [
    {
     "name": "stdout",
     "output_type": "stream",
     "text": [
      "[{'question': 'How many 1-inch square tiles would it take to cover the floor of a closet that has dimensions 6 feet by 2 feet?', 'option': [2663, 337, 3301, 1728], 'answer': 1728}, {'question': 'How many 1-inch square tiles would it take to cover the floor of a closet that has dimensions 8 feet by 6 feet?', 'option': [6912, 6592, 4282, 7407], 'answer': 6912}, {'question': 'How many 1-inch square tiles would it take to cover the floor of a closet that has dimensions 2 feet by 1 feet?', 'option': [1048, 3495, 288, 9799], 'answer': 288}, {'question': 'How many 1-inch square tiles would it take to cover the floor of a closet that has dimensions 6 feet by 3 feet?', 'option': [2592, 3044, 9117, 9007], 'answer': 2592}]\n"
     ]
    }
   ],
   "source": [
    "temp4 = \"How many 1-inch square tiles would it take to cover the floor of a closet that has dimensions {} feet by {} feet?\"\n",
    "j = 4\n",
    "Q_A_4 = []\n",
    "while j > 0:\n",
    "    d = {}\n",
    "    option = []\n",
    "    foot1 = random.randint(1,10)\n",
    "    foot2 = random.randint(1,10)\n",
    "    inches1 = foot1 * 12\n",
    "    inches2 = foot2 * 12\n",
    "    answer = inches1 * inches2\n",
    "    i = 3\n",
    "    while i > 0:\n",
    "        option.append(random.randint(100,10000))\n",
    "        i -= 1\n",
    "    option.append(answer)\n",
    "    random.shuffle(option)\n",
    "    d[\"question\"] = temp4.format(foot1,foot2)\n",
    "    d[\"option\"] = option\n",
    "    d[\"answer\"] = answer \n",
    "    Q_A_4.append(d)\n",
    "    j -= 1\n",
    "print(Q_A_4)"
   ]
  },
  {
   "cell_type": "code",
   "execution_count": 9,
   "metadata": {},
   "outputs": [
    {
     "name": "stdout",
     "output_type": "stream",
     "text": [
      "[{'question': 'Pari earns $11 for each ticket that he sells, and a bonus of $5 per ticket for each ticket he sells over 100. If Pari was paid $3623, how many tickets did he sell approximately?', 'option': [126, 302, 170, 257], 'answer': 257}, {'question': 'Pranav earns $11 for each ticket that he sells, and a bonus of $3 per ticket for each ticket he sells over 100. If Pranav was paid $4788, how many tickets did he sell approximately?', 'option': [425, 269, 363, 324], 'answer': 363}, {'question': 'Sara earns $13 for each ticket that he sells, and a bonus of $4 per ticket for each ticket he sells over 100. If Sara was paid $1775, how many tickets did he sell approximately?', 'option': [174, 106, 134, 127], 'answer': 127}, {'question': 'Vihaan earns $12 for each ticket that he sells, and a bonus of $1 per ticket for each ticket he sells over 100. If Vihaan was paid $2660, how many tickets did he sell approximately?', 'option': [28, 212, 72, 248], 'answer': 212}]\n"
     ]
    }
   ],
   "source": [
    "temp6 = '{} earns ${} for each ticket that he sells, and a bonus of ${} per ticket for each ticket he sells over 100. If {} was paid ${}, how many tickets did he sell approximately?'\n",
    "j = 4\n",
    "Q_A_6 = []\n",
    "while j > 0:\n",
    "    d = {}\n",
    "    option = []\n",
    "    number1 = random.randint(5,20)\n",
    "    number2 = random.randint(1,5)\n",
    "    number3 = random.randint(1000,5000)\n",
    "    if number3//number1 >= 100:\n",
    "        answer = (number3 + (number2*100))//(number1+number2)\n",
    "    else:answer = number3//number1\n",
    "    i = 3\n",
    "    while i > 0:\n",
    "        option.append(random.randint(20,500))\n",
    "        i -= 1\n",
    "    option.append(answer)\n",
    "    random.shuffle(option)\n",
    "    person = random.choice(names)\n",
    "    d[\"question\"] = temp6.format(person,number1,number2,person,number3)\n",
    "    d[\"option\"] = option\n",
    "    d[\"answer\"] = answer \n",
    "    Q_A_6.append(d)\n",
    "    j -= 1\n",
    "print(Q_A_6)\n",
    "\n"
   ]
  },
  {
   "cell_type": "code",
   "execution_count": 10,
   "metadata": {},
   "outputs": [
    {
     "name": "stdout",
     "output_type": "stream",
     "text": [
      "[{'question': 'Attendees at a charity dinner each gave at least $28 to the charity and a total of $4774 was collected. What is the maximum number of people who could have attended when the total amount collected was doubled?', 'option': [219, 355, 977, 170], 'answer': 170}, {'question': 'Attendees at a charity dinner each gave at least $44 to the charity and a total of $12116 was collected. What is the maximum number of people who could have attended when the total amount collected was quadrupled?', 'option': [275, 390, 680, 557], 'answer': 275}, {'question': 'Attendees at a charity dinner each gave at least $68 to the charity and a total of $12261 was collected. What is the maximum number of people who could have attended when the total amount collected was tripled?', 'option': [565, 180, 20, 331], 'answer': 180}, {'question': 'Attendees at a charity dinner each gave at least $62 to the charity and a total of $11464 was collected. What is the maximum number of people who could have attended when the total amount collected was quadrupled?', 'option': [387, 134, 171, 184], 'answer': 184}]\n"
     ]
    }
   ],
   "source": [
    "annotations = {\"doubled\":2,\"tripled\":3,\"quadrupled\":4}\n",
    "temp7 = \"Attendees at a charity dinner each gave at least ${} to the charity and a total of ${} was collected. What is the maximum number of people who could have attended when the total amount collected was {}?\"\n",
    "j = 4\n",
    "Q_A_7 = []\n",
    "while j > 0:\n",
    "    d = {}\n",
    "    option = []\n",
    "    number1 = random.randrange(20,100,2)\n",
    "    ann = random.choice(list(annotations.keys()))\n",
    "    number2 = random.randint(2000,5000)\n",
    "    number2 = number2 * annotations[ann]\n",
    "    answer = number2//number1\n",
    "\n",
    "    i = 3\n",
    "    while i > 0:\n",
    "        option.append(random.randint(20,1000))\n",
    "        i -= 1\n",
    "    option.append(answer)\n",
    "    random.shuffle(option)\n",
    "    d[\"question\"] = temp7.format(number1,number2,ann)\n",
    "    d[\"option\"] = option\n",
    "    d[\"answer\"] = answer \n",
    "    Q_A_7.append(d)\n",
    "    j -= 1\n",
    "print(Q_A_7)\n",
    "\n",
    "    \n",
    "    \n",
    "    \n"
   ]
  },
  {
   "cell_type": "code",
   "execution_count": 20,
   "metadata": {},
   "outputs": [
    {
     "name": "stdout",
     "output_type": "stream",
     "text": [
      "[{'question': 'What is your average speed in mpm if you travel 35 miles in 4 hours and 24 minutes?', 'option': [2.370261710097135, 2.2635918127192616, 7.804708767404169, 0.13257575757575757], 'answer': 0.13257575757575757}, {'question': 'What is your average speed in mpm if you travel 82 miles in 1 hours and 30 minutes?', 'option': [0.9111111111111111, 1.2086787518282283, 5.931237792639524, 9.154102480337375], 'answer': 0.9111111111111111}, {'question': 'What is your average speed in kph if you travel 38 miles in 2 hours and 52 minutes?', 'option': [21.209302325581397, 3.275641308771883, 7.610632647652998, 9.5980726938813], 'answer': 21.209302325581397}, {'question': 'What is your average speed in kpm if you travel 23 miles in 4 hours and 25 minutes?', 'option': [0.1388679245283019, 6.5382771779432565, 7.667123465149443, 3.441042419575856], 'answer': 0.1388679245283019}, {'question': 'What is your average speed in mph if you travel 93 miles in 1 hours and 36 minutes?', 'option': [58.125, 5.35413605300497, 2.629585892806353, 5.936762849721032], 'answer': 58.125}, {'question': 'What is your average speed in mpm if you travel 27 miles in 2 hours and 51 minutes?', 'option': [1.3507261953062546, 0.15789473684210525, 3.6450735886835974, 5.654599163557203], 'answer': 0.15789473684210525}, {'question': 'What is your average speed in mpm if you travel 17 miles in 5 hours and 24 minutes?', 'option': [5.683765139491978, 0.05246913580246913, 6.154233530191584, 7.1676319728124485], 'answer': 0.05246913580246913}, {'question': 'What is your average speed in mph if you travel 50 miles in 1 hours and 12 minutes?', 'option': [1.3172106697431327, 6.819437640413122, 4.2203804448317195, 41.666666666666664], 'answer': 41.666666666666664}]\n"
     ]
    }
   ],
   "source": [
    "metric = [\"mph\",\"kph\",\"kpm\",\"mpm\"]\n",
    "temp8 = \"What is your average speed in {} if you travel {} miles in {} hours and {} minutes?\"\n",
    "j = 8\n",
    "Q_A_8 = []\n",
    "while j > 0:\n",
    "    d = {}\n",
    "    option = []\n",
    "    metric1 = random.choice(metric)\n",
    "    distance_mile = random.randint(15,100)\n",
    "    distance_km = distance_mile * 1.6\n",
    "    hr = random.randint(1,10)\n",
    "    m = random.randint(1,60)\n",
    "    hr1 = hr*60\n",
    "    time_in_min = hr1 + m\n",
    "    if metric1 == \"mpm\":\n",
    "        answer = distance_mile/time_in_min\n",
    "    elif metric1 == \"kpm\":\n",
    "        answer = distance_km/time_in_min\n",
    "    elif metric1 == \"mph\":\n",
    "        answer = (distance_mile/time_in_min)*60\n",
    "    else:answer = (distance_km/time_in_min)*60\n",
    "        \n",
    "    i = 3\n",
    "    while i > 0:\n",
    "        option.append(random.uniform(1,10))\n",
    "        i -= 1\n",
    "    option.append(answer)\n",
    "    random.shuffle(option)\n",
    "    d[\"question\"] = temp8.format(metric1,distance_mile,hr,m)\n",
    "    d[\"option\"] = option\n",
    "    d[\"answer\"] = answer \n",
    "    Q_A_8.append(d)\n",
    "    j -= 1\n",
    "print(Q_A_8)\n",
    "    \n",
    "\n"
   ]
  },
  {
   "cell_type": "code",
   "execution_count": 12,
   "metadata": {},
   "outputs": [],
   "source": [
    "def invert_int(n):\n",
    "    return 1//n"
   ]
  },
  {
   "cell_type": "code",
   "execution_count": 16,
   "metadata": {},
   "outputs": [
    {
     "name": "stdout",
     "output_type": "stream",
     "text": [
      "6.0\n",
      "7.0\n",
      "2.0\n",
      "6.0\n",
      "[{'question': 'If a taxi charges $3 for the first mile, and $1.00 for each additional one-sixth mile, how much does the taxi charge for a 34.6 mile ride?', 'option': [204.6, 300, 282, 487], 'answer': 204.6}, {'question': 'If a taxi charges $2 for the first mile, and $1.00 for each additional one-seventh mile, how much does the taxi charge for a 21.2 mile ride?', 'option': [406, 143.4, 344, 484], 'answer': 143.4}, {'question': 'If a taxi charges $9 for the first mile, and $1.00 for each additional half mile, how much does the taxi charge for a 49.5 mile ride?', 'option': [179, 106.0, 312, 391], 'answer': 106.0}, {'question': 'If a taxi charges $8 for the first mile, and $1.00 for each additional one-sixth mile, how much does the taxi charge for a 17.9 mile ride?', 'option': [109.4, 494, 223, 306], 'answer': 109.4}]\n"
     ]
    }
   ],
   "source": [
    "distance = {\"quarter\":1/4,\"half\":1/2,\"one-third\":1/3,\"one-fifth\":1/5,\"one-sixth\":1/6,\"one-seventh\":1/7,\"one-tenth\":1/10}\n",
    "temp9 = \"If a taxi charges ${} for the first mile, and $1.00 for each additional {} mile, how much does the taxi charge for a {} mile ride?\"\n",
    "j = 4\n",
    "Q_A_9 = []\n",
    "while j > 0:\n",
    "    d = {}\n",
    "    option = []\n",
    "    mile = random.uniform(4,50)\n",
    "    mile = round(mile,1)\n",
    "    number1 = random.randint(2,10)\n",
    "    distance1 = random.choice(list(distance.keys()))\n",
    "    number2 = distance[distance1]\n",
    "    number2 = invert_int(number2)\n",
    "    print(number2)\n",
    "    answer = number1 + (mile-1)*number2\n",
    "    answer = round(answer,1)\n",
    "    i = 3\n",
    "    while i > 0:\n",
    "        option.append(random.randint(int(answer),500))\n",
    "        i -= 1\n",
    "    option.append(answer)\n",
    "    random.shuffle(option)\n",
    "    d[\"question\"] = temp9.format(number1,distance1,mile)\n",
    "    d[\"option\"] = option\n",
    "    d[\"answer\"] = answer \n",
    "    Q_A_9.append(d)\n",
    "    j -= 1\n",
    "print(Q_A_9)"
   ]
  },
  {
   "cell_type": "code",
   "execution_count": 22,
   "metadata": {},
   "outputs": [
    {
     "name": "stdout",
     "output_type": "stream",
     "text": [
      "[{'question': 'Alexander was a great fighter and held a larger empire than any king born before or after him. He started learning new skills when he was 7 years old in the year 1475. When was alexander born?', 'option': [1624, 1487, 1525, 1468], 'answer': 1468}, {'question': 'Alexander was a great fighter and held a larger empire than any king born before or after him. He started learning new skills when he was 11 years old in the year 1518. When was alexander born?', 'option': [1812, 1794, 1790, 1507], 'answer': 1507}, {'question': 'Alexander was a great fighter and held a larger empire than any king born before or after him. He started learning new skills when he was 17 years old in the year 1350. When was alexander born?', 'option': [1333, 1663, 1869, 1894], 'answer': 1333}]\n"
     ]
    }
   ],
   "source": [
    "temp10 = \"Alexander was a great fighter and held a larger empire than any king born before or after him. He started learning new skills when he was {} years old in the year {}. When was alexander born?\"\n",
    "j = 3\n",
    "Q_A_10 = []\n",
    "while j > 0:\n",
    "    d = {}\n",
    "    option = []\n",
    "    age = random.randint(5,20)\n",
    "    year = random.randint(1100,1900)\n",
    "    answer = year - age\n",
    "    i = 3\n",
    "    while i > 0:\n",
    "        option.append(random.randint(int(answer),1900))\n",
    "        i -= 1\n",
    "    option.append(answer)\n",
    "    random.shuffle(option)\n",
    "    d[\"question\"] = temp10.format(age,year)\n",
    "    d[\"option\"] = option\n",
    "    d[\"answer\"] = answer \n",
    "    Q_A_10.append(d)\n",
    "    j -= 1\n",
    "print(Q_A_10)\n",
    "    "
   ]
  },
  {
   "cell_type": "code",
   "execution_count": null,
   "metadata": {},
   "outputs": [],
   "source": []
  }
 ],
 "metadata": {
  "kernelspec": {
   "display_name": "Python 3",
   "language": "python",
   "name": "python3"
  },
  "language_info": {
   "codemirror_mode": {
    "name": "ipython",
    "version": 3
   },
   "file_extension": ".py",
   "mimetype": "text/x-python",
   "name": "python",
   "nbconvert_exporter": "python",
   "pygments_lexer": "ipython3",
   "version": "3.8.5"
  }
 },
 "nbformat": 4,
 "nbformat_minor": 4
}
